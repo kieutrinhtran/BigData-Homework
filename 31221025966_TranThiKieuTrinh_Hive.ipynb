{
  "nbformat": 4,
  "nbformat_minor": 0,
  "metadata": {
    "colab": {
      "provenance": [],
      "include_colab_link": true
    },
    "kernelspec": {
      "name": "python3",
      "display_name": "Python 3"
    }
  },
  "cells": [
    {
      "cell_type": "markdown",
      "metadata": {
        "id": "view-in-github",
        "colab_type": "text"
      },
      "source": [
        "<a href=\"https://colab.research.google.com/github/kieutrinhtran/BigData-Homework/blob/main/31221025966_TranThiKieuTrinh_Hive.ipynb\" target=\"_parent\"><img src=\"https://colab.research.google.com/assets/colab-badge.svg\" alt=\"Open In Colab\"/></a>"
      ]
    },
    {
      "cell_type": "markdown",
      "source": [
        "# **Hướng dẫn thực hành Hive**"
      ],
      "metadata": {
        "id": "0XjFib8maWxP"
      }
    },
    {
      "cell_type": "code",
      "source": [
        "from datetime import datetime\n",
        "import pytz\n",
        "print('Tested',datetime.now(pytz.timezone('Asia/Ho_Chi_Minh')))"
      ],
      "metadata": {
        "id": "p9zM6ZmAiVDM",
        "outputId": "cf31891d-decc-4aee-a742-0683263a8320",
        "colab": {
          "base_uri": "https://localhost:8080/"
        }
      },
      "execution_count": null,
      "outputs": [
        {
          "output_type": "stream",
          "name": "stdout",
          "text": [
            "Tested 2025-04-11 20:53:10.256308+07:00\n"
          ]
        }
      ]
    },
    {
      "cell_type": "markdown",
      "metadata": {
        "id": "mwjvirExIQAM"
      },
      "source": [
        "#Hive with Hadoop\n",
        "This notebook has all the codes / commands required to install Hadoop and Hive <br>\n",
        "\n"
      ]
    },
    {
      "cell_type": "markdown",
      "metadata": {
        "id": "RK5y3g-ySDmZ"
      },
      "source": [
        "##Acknowledgements\n",
        "Hadoop Installation from [Anjaly Sam's Github Repository](https://github.com/anjalysam/Hadoop) <br>\n",
        "Hive Installation from [PhoenixNAP](https://phoenixnap.com/kb/install-hive-on-ubuntu) website"
      ]
    },
    {
      "cell_type": "markdown",
      "metadata": {
        "id": "myPIGP-mwKBD"
      },
      "source": [
        "#1 Hadoop\n",
        "Hadoop is a pre-requisite for Hive <br>\n"
      ]
    },
    {
      "cell_type": "markdown",
      "metadata": {
        "id": "j9bT9M1yvyXG"
      },
      "source": [
        "## 1.1 Download, Install Hadoop"
      ]
    },
    {
      "cell_type": "code",
      "metadata": {
        "id": "NXFZuorwF25e",
        "colab": {
          "base_uri": "https://localhost:8080/"
        },
        "outputId": "09a9dccf-efad-4150-dff3-163410b15765"
      },
      "source": [
        "# The default JVM available at /usr/lib/jvm/java-11-openjdk-amd64/  works for Hadoop\n",
        "# But gives errors with Hive https://stackoverflow.com/questions/54037773/hive-exception-class-jdk-internal-loader-classloadersappclassloader-cannot\n",
        "# Hence this JVM needs to be installed\n",
        "!apt-get update > /dev/null\n",
        "!apt-get install openjdk-8-jdk-headless -qq > /dev/null\n",
        "\n",
        "# Download the latest version of Hadoop\n",
        "!wget -q https://downloads.apache.org/hadoop/common/hadoop-3.3.5/hadoop-3.3.5.tar.gz\n",
        "# Unzip it\n",
        "# the tar command with the -x flag to extract, -z to uncompress, -v for verbose output, and -f to specify that we’re extracting from a file\n",
        "!tar -xzf hadoop-3.3.5.tar.gz\n",
        "#copy  hadoop file to user/local\n",
        "!mv  hadoop-3.3.5/ /usr/local/"
      ],
      "execution_count": null,
      "outputs": [
        {
          "output_type": "stream",
          "name": "stdout",
          "text": [
            "W: Skipping acquire of configured file 'main/source/Sources' as repository 'https://r2u.stat.illinois.edu/ubuntu jammy InRelease' does not seem to provide it (sources.list entry misspelt?)\n"
          ]
        }
      ]
    },
    {
      "cell_type": "markdown",
      "metadata": {
        "id": "Vh6Dqbbrwqpe"
      },
      "source": [
        "## 1.2 Set Environment Variables\n"
      ]
    },
    {
      "cell_type": "code",
      "metadata": {
        "id": "_ez4T7Gs3RAn"
      },
      "source": [
        "#To set java path, go to /usr/local/hadoop-3.3.0/etc/hadoop/hadoop-env.sh then\n",
        "#. . . export JAVA_HOME=/usr/lib/jvm/java-11-openjdk-amd64/ . . .\n",
        "#we have used a simpler alternative route using os.environ - it works\n",
        "\n",
        "import os\n",
        "os.environ[\"JAVA_HOME\"] = \"/usr/lib/jvm/java-8-openjdk-amd64\"   # default is changed\n",
        "os.environ[\"HADOOP_HOME\"] = \"/usr/local/hadoop-3.3.5/\"\n",
        "\n",
        "# Add Hadoop BIN to PATH\n",
        "# current_path taken from last command\n",
        "current_path = os.getenv('PATH')\n",
        "new_path = current_path+':/usr/local/hadoop-3.3.5/bin/'\n",
        "os.environ[\"PATH\"] = new_path"
      ],
      "execution_count": null,
      "outputs": []
    },
    {
      "cell_type": "markdown",
      "metadata": {
        "id": "Oj00rPPZyEWZ"
      },
      "source": [
        "## 1.3 Test Hadoop Installation"
      ]
    },
    {
      "cell_type": "code",
      "metadata": {
        "id": "0n3I6iqjGod-",
        "colab": {
          "base_uri": "https://localhost:8080/"
        },
        "outputId": "7b1a0af0-e8ce-4cb9-cec3-922daa4bfb81"
      },
      "source": [
        "# Testing Hadoop with PI generating sample program, should calculate value of pi = 3.14157500000000000000\n",
        "# pi example\n",
        "#Uncomment the following line if  you want to test Hadoop with pi example\n",
        "#!hadoop jar /usr/local/hadoop-3.5.0/share/hadoop/mapreduce/hadoop-mapreduce-examples-3.5.0.jar pi 16 100000\n",
        "!hdfs dfs -ls"
      ],
      "execution_count": null,
      "outputs": [
        {
          "output_type": "stream",
          "name": "stdout",
          "text": [
            "Found 3 items\n",
            "drwxr-xr-x   - root root       4096 2025-04-09 13:38 .config\n",
            "-rw-r--r--   1 root root  706533213 2023-03-15 19:35 hadoop-3.3.5.tar.gz\n",
            "drwxr-xr-x   - root root       4096 2025-04-09 13:38 sample_data\n"
          ]
        }
      ]
    },
    {
      "cell_type": "markdown",
      "metadata": {
        "id": "RUlA5c3yRCx1"
      },
      "source": [
        "#2 Hive"
      ]
    },
    {
      "cell_type": "markdown",
      "metadata": {
        "id": "pURJ-sKVsymi"
      },
      "source": [
        "## 2.1 Download, Install HIVE"
      ]
    },
    {
      "cell_type": "code",
      "metadata": {
        "id": "TFsywGzPRaYp"
      },
      "source": [
        "# Download and Unzip the correct version and unzip\n",
        "!wget -q https://archive.apache.org/dist/hive/hive-3.1.3/apache-hive-3.1.3-bin.tar.gz\n",
        "\n",
        "!tar xzf apache-hive-3.1.3-bin.tar.gz"
      ],
      "execution_count": null,
      "outputs": []
    },
    {
      "cell_type": "markdown",
      "metadata": {
        "id": "Aq6QYCVetNED"
      },
      "source": [
        "## 2.2 Set Environment *Variables*"
      ]
    },
    {
      "cell_type": "code",
      "metadata": {
        "colab": {
          "base_uri": "https://localhost:8080/"
        },
        "id": "7qROUu4vSdEU",
        "outputId": "36202ebf-3e6b-401c-b512-4325eb87c668"
      },
      "source": [
        "# Make sure that the version number is correct and is as downloaded\n",
        "os.environ[\"HIVE_HOME\"] = \"/content/apache-hive-3.1.3-bin\"\n",
        "!echo $HIVE_HOME\n",
        "\n",
        "# current_path is set from output of previous command\n",
        "!echo $PATH\n",
        "\n",
        "current_path = os.getenv('PATH')\n",
        "new_path = current_path+':/content/apache-hive-3.1.3-bin/bin'\n",
        "os.environ[\"PATH\"] = new_path\n",
        "!echo $PATH\n",
        "\n",
        "!echo $JAVA_HOME\n",
        "!echo $HADOOP_HOME\n",
        "!echo $HIVE_HOME"
      ],
      "execution_count": null,
      "outputs": [
        {
          "output_type": "stream",
          "name": "stdout",
          "text": [
            "/content/apache-hive-3.1.3-bin\n",
            "/opt/bin:/usr/local/nvidia/bin:/usr/local/cuda/bin:/usr/local/sbin:/usr/local/bin:/usr/sbin:/usr/bin:/sbin:/bin:/tools/node/bin:/tools/google-cloud-sdk/bin:/usr/local/hadoop-3.3.5/bin/\n",
            "/opt/bin:/usr/local/nvidia/bin:/usr/local/cuda/bin:/usr/local/sbin:/usr/local/bin:/usr/sbin:/usr/bin:/sbin:/bin:/tools/node/bin:/tools/google-cloud-sdk/bin:/usr/local/hadoop-3.3.5/bin/:/content/apache-hive-3.1.3-bin/bin\n",
            "/usr/lib/jvm/java-8-openjdk-amd64\n",
            "/usr/local/hadoop-3.3.5/\n",
            "/content/apache-hive-3.1.3-bin\n"
          ]
        }
      ]
    },
    {
      "cell_type": "markdown",
      "metadata": {
        "id": "AryjHG4ltfEe"
      },
      "source": [
        "## 2.3 Set up HDFS Directories"
      ]
    },
    {
      "cell_type": "code",
      "metadata": {
        "colab": {
          "base_uri": "https://localhost:8080/"
        },
        "id": "Dry58UPMVTat",
        "outputId": "06f03884-5379-437f-a9fb-06eb4d4edcc6"
      },
      "source": [
        "!hdfs dfs -mkdir /tmp\n",
        "!hdfs dfs -chmod g+w /tmp\n",
        "#!hdfs dfs -ls /\n",
        "!hdfs dfs -mkdir -p /content/warehouse\n",
        "!hdfs dfs -chmod g+w /content/warehouse\n",
        "#!hdfs dfs -ls /content/"
      ],
      "execution_count": null,
      "outputs": [
        {
          "output_type": "stream",
          "name": "stdout",
          "text": [
            "mkdir: `/tmp': File exists\n"
          ]
        }
      ]
    },
    {
      "cell_type": "markdown",
      "metadata": {
        "id": "0VrvjhfG2JXs"
      },
      "source": [
        "## 2.4 Initialise HIVE - note and fix errors"
      ]
    },
    {
      "cell_type": "code",
      "metadata": {
        "id": "zLX7AvL8YLMY"
      },
      "source": [
        "# TYPE this command, do not copy and paste. Non printing characters cause havoc\n",
        "# There will be two errors, that we will fix\n",
        "# UNCOMMENT the following line if you WISH TO SEE the errors\n",
        "#!schematool -initSchema -dbType derby\n"
      ],
      "execution_count": null,
      "outputs": []
    },
    {
      "cell_type": "markdown",
      "metadata": {
        "id": "v21CxgGLuJPQ"
      },
      "source": [
        "### 2.4.1 Fix One Warning, One Error\n",
        "SLF4J is duplicate, need to locate them and remove one <br>\n",
        "Guava jar version is low"
      ]
    },
    {
      "cell_type": "code",
      "metadata": {
        "colab": {
          "base_uri": "https://localhost:8080/"
        },
        "id": "Becy3BABuE8b",
        "outputId": "e1e3b92a-a40a-43cb-c242-e94e73e19662"
      },
      "source": [
        "# locate multiple instances of slf4j ...\n",
        "!ls $HADOOP_HOME/share/hadoop/common/lib/*slf4j*\n",
        "!ls $HIVE_HOME/lib/*slf4j*\n",
        "\n",
        "# removed the logging jar from Hive, retaining the Hadoop jar\n",
        "!mv /content/apache-hive-3.1.3-bin/lib/log4j-slf4j-impl-2.17.1.jar ./\n",
        "\n",
        "# guava jar needs to above v 20\n",
        "# https://stackoverflow.com/questions/45247193/nosuchmethoderror-com-google-common-base-preconditions-checkargumentzljava-lan\n",
        "!ls $HIVE_HOME/lib/gu*\n",
        "\n",
        "# the one available with Hadoop is better, v 27\n",
        "!ls $HADOOP_HOME/share/hadoop/hdfs/lib/gu*\n",
        "\n",
        "# Remove the Hive Guava and replace with Hadoop Guava\n",
        "!mv $HIVE_HOME/lib/guava-19.0.jar ./\n",
        "\n",
        "!cp $HADOOP_HOME/share/hadoop/hdfs/lib/guava-27.0-jre.jar $HIVE_HOME/lib/"
      ],
      "execution_count": null,
      "outputs": [
        {
          "output_type": "stream",
          "name": "stdout",
          "text": [
            "/usr/local/hadoop-3.3.5//share/hadoop/common/lib/jul-to-slf4j-1.7.36.jar\n",
            "/usr/local/hadoop-3.3.5//share/hadoop/common/lib/slf4j-api-1.7.36.jar\n",
            "/usr/local/hadoop-3.3.5//share/hadoop/common/lib/slf4j-reload4j-1.7.36.jar\n",
            "/content/apache-hive-3.1.3-bin/lib/log4j-slf4j-impl-2.17.1.jar\n",
            "/content/apache-hive-3.1.3-bin/lib/guava-19.0.jar\n",
            "/usr/local/hadoop-3.3.5//share/hadoop/hdfs/lib/guava-27.0-jre.jar\n"
          ]
        }
      ]
    },
    {
      "cell_type": "markdown",
      "metadata": {
        "id": "TdtNOXy8v4iD"
      },
      "source": [
        "##2.5 Initialize HIVE"
      ]
    },
    {
      "cell_type": "code",
      "metadata": {
        "colab": {
          "base_uri": "https://localhost:8080/"
        },
        "id": "9Tzw4XkApRg3",
        "outputId": "3a62afd4-16d2-4cea-c28b-1c62d9f1faba"
      },
      "source": [
        "#Type this command, dont copy-paste\n",
        "# Non printing characters inside the command will give totally illogical errors\n",
        "!schematool -initSchema -dbType derby"
      ],
      "execution_count": null,
      "outputs": [
        {
          "output_type": "stream",
          "name": "stdout",
          "text": [
            "Metastore connection URL:\t jdbc:derby:;databaseName=metastore_db;create=true\n",
            "Metastore Connection Driver :\t org.apache.derby.jdbc.EmbeddedDriver\n",
            "Metastore connection User:\t APP\n",
            "Starting metastore schema initialization to 3.1.0\n",
            "Initialization script hive-schema-3.1.0.derby.sql\n",
            "\n",
            " \n",
            " \n",
            " \n",
            " \n",
            " \n",
            " \n",
            " \n",
            " \n",
            " \n",
            "\n",
            " \n",
            " \n",
            " \n",
            " \n",
            " \n",
            " \n",
            " \n",
            " \n",
            " \n",
            " \n",
            " \n",
            " \n",
            " \n",
            " \n",
            " \n",
            " \n",
            " \n",
            " \n",
            " \n",
            " \n",
            " \n",
            " \n",
            " \n",
            " \n",
            " \n",
            "\n",
            " \n",
            " \n",
            " \n",
            " \n",
            " \n",
            " \n",
            " \n",
            " \n",
            " \n",
            " \n",
            " \n",
            " \n",
            " \n",
            " \n",
            " \n",
            " \n",
            " \n",
            " \n",
            " \n",
            " \n",
            " \n",
            " \n",
            "\n",
            " \n",
            " \n",
            " \n",
            " \n",
            " \n",
            " \n",
            " \n",
            " \n",
            "\n",
            " \n",
            "\n",
            " \n",
            " \n",
            " \n",
            "\n",
            " \n",
            " \n",
            " \n",
            "\n",
            "\n",
            " \n",
            " \n",
            " \n",
            "\n",
            " \n",
            " \n",
            " \n",
            "\n",
            "\n",
            " \n",
            " \n",
            " \n",
            " \n",
            " \n",
            " \n",
            " \n",
            "\n",
            "\n",
            " \n",
            " \n",
            " \n",
            "\n",
            " \n",
            " \n",
            " \n",
            "\n",
            " \n",
            " \n",
            "\n",
            " \n",
            " \n",
            " \n",
            " \n",
            " \n",
            "\n",
            " \n",
            " \n",
            " \n",
            " \n",
            " \n",
            " \n",
            " \n",
            " \n",
            " \n",
            " \n",
            " \n",
            " \n",
            "\n",
            " \n",
            " \n",
            " \n",
            " \n",
            " \n",
            " \n",
            "\n",
            " \n",
            " \n",
            " \n",
            " \n",
            " \n",
            " \n",
            " \n",
            " \n",
            " \n",
            " \n",
            " \n",
            " \n",
            " \n",
            " \n",
            " \n",
            " \n",
            " \n",
            " \n",
            " \n",
            " \n",
            " \n",
            " \n",
            " \n",
            " \n",
            " \n",
            " \n",
            " \n",
            " \n",
            " \n",
            " \n",
            " \n",
            " \n",
            " \n",
            " \n",
            " \n",
            " \n",
            " \n",
            "\n",
            " \n",
            " \n",
            " \n",
            "\n",
            " \n",
            " \n",
            " \n",
            " \n",
            " \n",
            " \n",
            " \n",
            " \n",
            " \n",
            " \n",
            " \n",
            " \n",
            " \n",
            " \n",
            " \n",
            " \n",
            "\n",
            " \n",
            " \n",
            "\n",
            "\n",
            " \n",
            "\n",
            "\n",
            "\n",
            " \n",
            "\n",
            "\n",
            " \n",
            " \n",
            " \n",
            " \n",
            " \n",
            " \n",
            " \n",
            " \n",
            " \n",
            "\n",
            " \n",
            " \n",
            " \n",
            " \n",
            " \n",
            " \n",
            "\n",
            " \n",
            "\n",
            "\n",
            "Initialization script completed\n",
            "schemaTool completed\n"
          ]
        }
      ]
    },
    {
      "cell_type": "markdown",
      "metadata": {
        "id": "nALF720ewT_-"
      },
      "source": [
        "## 2.6 Test HIVE\n",
        "1. Create database\n",
        "2. Create table\n",
        "3. Insert data\n",
        "4. Retrieve data\n",
        "\n",
        "using command line options as [given here](https://cwiki.apache.org/confluence/display/hive/languagemanual+cli#)."
      ]
    },
    {
      "cell_type": "code",
      "metadata": {
        "colab": {
          "base_uri": "https://localhost:8080/"
        },
        "id": "hKBG__HrKt9N",
        "outputId": "f5914449-f445-4d21-9c81-e8ef38867391"
      },
      "source": [
        "!hive -e 'create database if not exists praxisDB; show databases;'"
      ],
      "execution_count": null,
      "outputs": [
        {
          "output_type": "stream",
          "name": "stdout",
          "text": [
            "Hive Session ID = 42222f64-8130-438d-9681-d6f83cdba348\n",
            "\n",
            "Logging initialized using configuration in jar:file:/content/apache-hive-3.1.3-bin/lib/hive-common-3.1.3.jar!/hive-log4j2.properties Async: true\n",
            "Hive Session ID = 126722fc-ee62-4612-8141-fbdb441a7dca\n",
            "OK\n",
            "Time taken: 1.525 seconds\n",
            "OK\n",
            "default\n",
            "praxisdb\n",
            "Time taken: 0.259 seconds, Fetched: 2 row(s)\n"
          ]
        }
      ]
    },
    {
      "cell_type": "code",
      "metadata": {
        "colab": {
          "base_uri": "https://localhost:8080/"
        },
        "id": "duhKRlsnax6U",
        "outputId": "13688c17-fb28-45f1-abba-a440bb48a169"
      },
      "source": [
        "!hive -database praxisdb -e \"\\\n",
        "create table if not exists emp2 (name string, age int);\\\n",
        "show tables;\\\n",
        "\""
      ],
      "execution_count": null,
      "outputs": [
        {
          "output_type": "stream",
          "name": "stdout",
          "text": [
            "Hive Session ID = dfb24a2e-2bdd-4ceb-a59b-f94c3f00d5ff\n",
            "\n",
            "Logging initialized using configuration in jar:file:/content/apache-hive-3.1.3-bin/lib/hive-common-3.1.3.jar!/hive-log4j2.properties Async: true\n",
            "Hive Session ID = aab3a4c7-735b-4e51-8237-0c0b3780a1af\n",
            "OK\n",
            "Time taken: 1.287 seconds\n",
            "OK\n",
            "Time taken: 1.636 seconds\n",
            "OK\n",
            "emp2\n",
            "Time taken: 0.388 seconds, Fetched: 1 row(s)\n"
          ]
        }
      ]
    },
    {
      "cell_type": "code",
      "metadata": {
        "id": "YlXhPGIBbd7v",
        "colab": {
          "base_uri": "https://localhost:8080/"
        },
        "outputId": "b96a3f20-da72-45ef-cb30-b61066335c5b"
      },
      "source": [
        "!hive -database praxisdb -e \"show tables\""
      ],
      "execution_count": null,
      "outputs": [
        {
          "output_type": "stream",
          "name": "stdout",
          "text": [
            "Hive Session ID = 7b0bd942-00f8-408c-b9f7-aabdca1cd6c3\n",
            "\n",
            "Logging initialized using configuration in jar:file:/content/apache-hive-3.1.3-bin/lib/hive-common-3.1.3.jar!/hive-log4j2.properties Async: true\n",
            "Hive Session ID = 6cb6d442-6474-4aea-8847-14af9f754581\n",
            "OK\n",
            "Time taken: 1.4 seconds\n",
            "OK\n",
            "emp2\n",
            "Time taken: 0.28 seconds, Fetched: 1 row(s)\n"
          ]
        }
      ]
    },
    {
      "cell_type": "code",
      "metadata": {
        "colab": {
          "base_uri": "https://localhost:8080/"
        },
        "id": "VBbc2fzSb4Po",
        "outputId": "98c19ec6-df35-4bd1-e2ab-3636bbf8eb3d"
      },
      "source": [
        "!hive -database praxisdb -e \"\\\n",
        "insert into emp2 values ('naren', 70);\\\n",
        "insert into emp2 values ('aditya', 49);\\\n",
        "\""
      ],
      "execution_count": null,
      "outputs": [
        {
          "output_type": "stream",
          "name": "stdout",
          "text": [
            "Hive Session ID = 873d5860-05ca-4a0b-94e2-4daef660b2f6\n",
            "\n",
            "Logging initialized using configuration in jar:file:/content/apache-hive-3.1.3-bin/lib/hive-common-3.1.3.jar!/hive-log4j2.properties Async: true\n",
            "Hive Session ID = 947f35ba-1e75-48c6-9a8a-350ef5f45ce7\n",
            "OK\n",
            "Time taken: 1.983 seconds\n",
            "Query ID = root_20250411135921_d496fc6d-2dc1-485b-bbf3-a86104fa0cd7\n",
            "Total jobs = 3\n",
            "Launching Job 1 out of 3\n",
            "Number of reduce tasks determined at compile time: 1\n",
            "In order to change the average load for a reducer (in bytes):\n",
            "  set hive.exec.reducers.bytes.per.reducer=<number>\n",
            "In order to limit the maximum number of reducers:\n",
            "  set hive.exec.reducers.max=<number>\n",
            "In order to set a constant number of reducers:\n",
            "  set mapreduce.job.reduces=<number>\n",
            "Job running in-process (local Hadoop)\n",
            "2025-04-11 13:59:27,965 Stage-1 map = 100%,  reduce = 0%\n",
            "2025-04-11 13:59:28,971 Stage-1 map = 100%,  reduce = 100%\n",
            "Ended Job = job_local142187874_0001\n",
            "Stage-4 is selected by condition resolver.\n",
            "Stage-3 is filtered out by condition resolver.\n",
            "Stage-5 is filtered out by condition resolver.\n",
            "Moving data to directory file:/user/hive/warehouse/praxisdb.db/emp2/.hive-staging_hive_2025-04-11_13-59-21_675_4544577429577651344-1/-ext-10000\n",
            "Loading data to table praxisdb.emp2\n",
            "MapReduce Jobs Launched: \n",
            "Stage-Stage-1:  HDFS Read: 0 HDFS Write: 0 SUCCESS\n",
            "Total MapReduce CPU Time Spent: 0 msec\n",
            "OK\n",
            "Time taken: 8.443 seconds\n",
            "Query ID = root_20250411135930_8ee1d32f-c926-40df-87b7-bfec1bf2d316\n",
            "Total jobs = 3\n",
            "Launching Job 1 out of 3\n",
            "Number of reduce tasks determined at compile time: 1\n",
            "In order to change the average load for a reducer (in bytes):\n",
            "  set hive.exec.reducers.bytes.per.reducer=<number>\n",
            "In order to limit the maximum number of reducers:\n",
            "  set hive.exec.reducers.max=<number>\n",
            "In order to set a constant number of reducers:\n",
            "  set mapreduce.job.reduces=<number>\n",
            "Job running in-process (local Hadoop)\n",
            "2025-04-11 13:59:32,235 Stage-1 map = 0%,  reduce = 0%\n",
            "2025-04-11 13:59:33,254 Stage-1 map = 100%,  reduce = 100%\n",
            "Ended Job = job_local873778000_0002\n",
            "Stage-4 is selected by condition resolver.\n",
            "Stage-3 is filtered out by condition resolver.\n",
            "Stage-5 is filtered out by condition resolver.\n",
            "Moving data to directory file:/user/hive/warehouse/praxisdb.db/emp2/.hive-staging_hive_2025-04-11_13-59-30_090_7920635296328369422-1/-ext-10000\n",
            "Loading data to table praxisdb.emp2\n",
            "MapReduce Jobs Launched: \n",
            "Stage-Stage-1:  HDFS Read: 0 HDFS Write: 0 SUCCESS\n",
            "Total MapReduce CPU Time Spent: 0 msec\n",
            "OK\n",
            "Time taken: 3.849 seconds\n"
          ]
        }
      ]
    },
    {
      "cell_type": "code",
      "metadata": {
        "colab": {
          "base_uri": "https://localhost:8080/"
        },
        "id": "DFxnPRbQclhP",
        "outputId": "a5e605a5-568c-4ef3-da00-65a9ce356a3e"
      },
      "source": [
        "!hive -database praxisdb -e \"\\\n",
        "select * from emp2;\\\n",
        "select * from emp2 where name = 'aditya';\\\n",
        "\""
      ],
      "execution_count": null,
      "outputs": [
        {
          "output_type": "stream",
          "name": "stdout",
          "text": [
            "Hive Session ID = e6085bb7-ec5b-4c49-a033-316fe33e48e5\n",
            "\n",
            "Logging initialized using configuration in jar:file:/content/apache-hive-3.1.3-bin/lib/hive-common-3.1.3.jar!/hive-log4j2.properties Async: true\n",
            "Hive Session ID = ec32052a-e04f-4b98-8213-3c71f59d91d6\n",
            "OK\n",
            "Time taken: 1.295 seconds\n",
            "OK\n",
            "naren\t70\n",
            "aditya\t49\n",
            "Time taken: 2.578 seconds, Fetched: 2 row(s)\n",
            "OK\n",
            "aditya\t49\n",
            "Time taken: 0.666 seconds, Fetched: 1 row(s)\n"
          ]
        }
      ]
    },
    {
      "cell_type": "code",
      "metadata": {
        "id": "4Rwm36kUya6A"
      },
      "source": [
        "# Silent Mode\n",
        "#!hive -S -database praxisdb -e \"select * from emp2 where name = 'aditya'\""
      ],
      "execution_count": null,
      "outputs": []
    },
    {
      "cell_type": "markdown",
      "source": [
        "## Làm bài tập"
      ],
      "metadata": {
        "id": "hn5lj45RJYp-"
      }
    },
    {
      "cell_type": "code",
      "source": [
        "#Tạo CSDL\n",
        "!hive -e 'create database if not exists ueh_bigdata_31221025966; show databases;'"
      ],
      "metadata": {
        "colab": {
          "base_uri": "https://localhost:8080/"
        },
        "id": "xr9qBO0nJkD0",
        "outputId": "e4ff0670-70c2-4aa5-a465-c6d28fc6ebc8"
      },
      "execution_count": null,
      "outputs": [
        {
          "output_type": "stream",
          "name": "stdout",
          "text": [
            "Hive Session ID = 3750cb33-97bd-481c-ad3b-c276ae386066\n",
            "\n",
            "Logging initialized using configuration in jar:file:/content/apache-hive-3.1.3-bin/lib/hive-common-3.1.3.jar!/hive-log4j2.properties Async: true\n",
            "Hive Session ID = 5128f02e-be7a-4b4e-afdc-dc2fdc501c87\n",
            "OK\n",
            "Time taken: 2.487 seconds\n",
            "OK\n",
            "default\n",
            "praxisdb\n",
            "ueh_bigdata_31221025966\n",
            "Time taken: 0.436 seconds, Fetched: 3 row(s)\n"
          ]
        }
      ]
    },
    {
      "cell_type": "code",
      "source": [
        "# Tạo nội dung câu lệnh tạo bảng Hive đúng\n",
        "create_table_hql = \"\"\"\n",
        "CREATE TABLE IF NOT EXISTS Sale_31221025966 (\n",
        "  InvoiceID STRING,\n",
        "  Branch STRING,\n",
        "  City STRING,\n",
        "  CustomerType STRING,\n",
        "  Gender STRING,\n",
        "  ProductLine STRING,\n",
        "  UnitPrice FLOAT,\n",
        "  Quantity INT,\n",
        "  Tax5 FLOAT,\n",
        "  Total FLOAT,\n",
        "  `Date` STRING,\n",
        "  `Time` STRING,\n",
        "  Payment STRING,\n",
        "  COGS FLOAT,\n",
        "  GrossMarginPercentage FLOAT,\n",
        "  GrossIncome FLOAT,\n",
        "  Rating FLOAT\n",
        ")\n",
        "ROW FORMAT DELIMITED\n",
        "FIELDS TERMINATED BY ','\n",
        "STORED AS TEXTFILE\n",
        "TBLPROPERTIES (\"skip.header.line.count\"=\"1\");\n",
        "\"\"\"\n",
        "\n",
        "# Lưu vào file .hql\n",
        "with open(\"create_table_Sale_31221025966.hql\", \"w\") as f:\n",
        "    f.write(create_table_hql)\n"
      ],
      "metadata": {
        "id": "S0sGCI4aLU1d"
      },
      "execution_count": null,
      "outputs": []
    },
    {
      "cell_type": "code",
      "source": [
        "!hive -database ueh_bigdata_31221025966 -f create_table_Sale_31221025966.hql"
      ],
      "metadata": {
        "colab": {
          "base_uri": "https://localhost:8080/"
        },
        "id": "kM2kPMY5NofO",
        "outputId": "d2ab4e81-c121-44e4-b656-f9adb97bdcb7"
      },
      "execution_count": null,
      "outputs": [
        {
          "output_type": "stream",
          "name": "stdout",
          "text": [
            "Hive Session ID = a30610ad-bddd-44a9-83ef-9798db248521\n",
            "\n",
            "Logging initialized using configuration in jar:file:/content/apache-hive-3.1.3-bin/lib/hive-common-3.1.3.jar!/hive-log4j2.properties Async: true\n",
            "Hive Session ID = fb6e085f-f11e-4e97-95b6-4bf53b117a88\n",
            "OK\n",
            "Time taken: 1.244 seconds\n",
            "OK\n",
            "Time taken: 1.102 seconds\n"
          ]
        }
      ]
    },
    {
      "cell_type": "code",
      "source": [
        "!hive -database ueh_bigdata_31221025966 -e \"SHOW TABLES;\""
      ],
      "metadata": {
        "colab": {
          "base_uri": "https://localhost:8080/"
        },
        "id": "bF55N9sYNzJr",
        "outputId": "ad1129ab-c6d0-43c9-d270-798c7d1b1299"
      },
      "execution_count": null,
      "outputs": [
        {
          "output_type": "stream",
          "name": "stdout",
          "text": [
            "Hive Session ID = da08103e-afc0-4ad2-988d-cdda7878288d\n",
            "\n",
            "Logging initialized using configuration in jar:file:/content/apache-hive-3.1.3-bin/lib/hive-common-3.1.3.jar!/hive-log4j2.properties Async: true\n",
            "Hive Session ID = 7d1570a1-b235-431a-87b2-74b80016d4c9\n",
            "FAILED: SemanticException [Error 10072]: Database does not exist: ueh_bigdata_31221025966\n"
          ]
        }
      ]
    },
    {
      "cell_type": "code",
      "source": [
        "!pip install -q gdown\n",
        "\n",
        "# File từ Google Drive: https://drive.google.com/file/d/1vP9yiKaNnBxINT-ccGctORuChzO4aSkE/view\n",
        "# Lấy ID là: 1vP9yiKaNnBxINT-ccGctORuChzO4aSkE\n",
        "!gdown --id 1vP9yiKaNnBxINT-ccGctORuChzO4aSkE --output SuperMarketSales.csv\n"
      ],
      "metadata": {
        "colab": {
          "base_uri": "https://localhost:8080/"
        },
        "id": "wOqrYI0cLKbi",
        "outputId": "a6c271c7-5a3e-4b37-f32c-009d637e87c8"
      },
      "execution_count": null,
      "outputs": [
        {
          "output_type": "stream",
          "name": "stdout",
          "text": [
            "/usr/local/lib/python3.11/dist-packages/gdown/__main__.py:140: FutureWarning: Option `--id` was deprecated in version 4.3.1 and will be removed in 5.0. You don't need to pass it anymore to use a file ID.\n",
            "  warnings.warn(\n",
            "Downloading...\n",
            "From: https://drive.google.com/uc?id=1vP9yiKaNnBxINT-ccGctORuChzO4aSkE\n",
            "To: /content/SuperMarketSales.csv\n",
            "100% 131k/131k [00:00<00:00, 68.3MB/s]\n"
          ]
        }
      ]
    },
    {
      "cell_type": "code",
      "source": [
        "#Tải file CSV lên HDFS\n",
        "# Tạo thư mục nếu cần\n",
        "!hdfs dfs -mkdir -p /tmp/sales_data\n",
        "\n",
        "# Tải file lên HDFS\n",
        "!hdfs dfs -put -f SuperMarketSales.csv /tmp/sales_data/\n",
        "\n",
        "#Load dữ liệu vào bảng Hive\n",
        "!hive -database ueh_bigdata_31221025966 -e \"LOAD DATA INPATH '/tmp/sales_data/SuperMarketSales.csv' INTO TABLE Sale_31221025966;\"\n"
      ],
      "metadata": {
        "colab": {
          "base_uri": "https://localhost:8080/"
        },
        "id": "7JpOALNpOJ40",
        "outputId": "29433759-cfe4-4293-eaa5-63e8bf6760e8"
      },
      "execution_count": null,
      "outputs": [
        {
          "output_type": "stream",
          "name": "stdout",
          "text": [
            "Hive Session ID = 4568744d-b7c4-413e-9ae7-4156622d7024\n",
            "\n",
            "Logging initialized using configuration in jar:file:/content/apache-hive-3.1.3-bin/lib/hive-common-3.1.3.jar!/hive-log4j2.properties Async: true\n",
            "Hive Session ID = 14d14f23-a6f7-4390-8419-410113dde37d\n",
            "OK\n",
            "Time taken: 1.375 seconds\n",
            "Loading data to table ueh_bigdata_31221025966.sale_31221025966\n",
            "OK\n",
            "Time taken: 1.6 seconds\n"
          ]
        }
      ]
    },
    {
      "cell_type": "code",
      "source": [
        "#Kiểm tra dữ liệu\n",
        "!hive -database ueh_bigdata_31221025966 -e \"SELECT * FROM Sale_31221025966 LIMIT 10;\"\n"
      ],
      "metadata": {
        "colab": {
          "base_uri": "https://localhost:8080/"
        },
        "id": "EmwUaN-JORDx",
        "outputId": "41090dbe-1e77-4eb5-947b-54cbd247742c"
      },
      "execution_count": null,
      "outputs": [
        {
          "output_type": "stream",
          "name": "stdout",
          "text": [
            "Hive Session ID = 2cdb340f-4d20-408c-a90e-b4d70429bf8f\n",
            "\n",
            "Logging initialized using configuration in jar:file:/content/apache-hive-3.1.3-bin/lib/hive-common-3.1.3.jar!/hive-log4j2.properties Async: true\n",
            "Hive Session ID = b0c51805-8638-4abc-8dce-25b813c9def1\n",
            "OK\n",
            "Time taken: 1.287 seconds\n",
            "OK\n",
            "750-67-8428\tA\tYangon\tMember\tFemale\tHealth and beauty\t74.69\t7\t26.1415\t548.9715\t1/5/2019\t13:08\tEwallet\t522.83\t4.7619047\t26.1415\t9.1\n",
            "226-31-3081\tC\tNaypyitaw\tNormal\tFemale\tElectronic accessories\t15.28\t5\t3.82\t80.22\t3/8/2019\t10:29\tCash\t76.4\t4.7619047\t3.82\t9.6\n",
            "631-41-3108\tA\tYangon\tNormal\tMale\tHome and lifestyle\t46.33\t7\t16.2155\t340.5255\t3/3/2019\t13:23\tCredit card\t324.31\t4.7619047\t16.2155\t7.4\n",
            "123-19-1176\tA\tYangon\tMember\tMale\tHealth and beauty\t58.22\t8\t23.288\t489.048\t1/27/2019\t20:33\tEwallet\t465.76\t4.7619047\t23.288\t8.4\n",
            "373-73-7910\tA\tYangon\tNormal\tMale\tSports and travel\t86.31\t7\t30.2085\t634.3785\t2/8/2019\t10:37\tEwallet\t604.17\t4.7619047\t30.2085\t5.3\n",
            "699-14-3026\tC\tNaypyitaw\tNormal\tMale\tElectronic accessories\t85.39\t7\t29.8865\t627.6165\t3/25/2019\t18:30\tEwallet\t597.73\t4.7619047\t29.8865\t4.1\n",
            "355-53-5943\tA\tYangon\tMember\tFemale\tElectronic accessories\t68.84\t6\t20.652\t433.692\t2/25/2019\t14:36\tEwallet\t413.04\t4.7619047\t20.652\t5.8\n",
            "315-22-5665\tC\tNaypyitaw\tNormal\tFemale\tHome and lifestyle\t73.56\t10\t36.78\t772.38\t2/24/2019\t11:38\tEwallet\t735.6\t4.7619047\t36.78\t8.0\n",
            "665-32-9167\tA\tYangon\tMember\tFemale\tHealth and beauty\t36.26\t2\t3.626\t76.146\t1/10/2019\t17:15\tCredit card\t72.52\t4.7619047\t3.626\t7.2\n",
            "692-92-5582\tB\tMandalay\tMember\tFemale\tFood and beverages\t54.84\t3\t8.226\t172.746\t2/20/2019\t13:27\tCredit card\t164.52\t4.7619047\t8.226\t5.9\n",
            "Time taken: 2.734 seconds, Fetched: 10 row(s)\n"
          ]
        }
      ]
    },
    {
      "cell_type": "code",
      "source": [
        "#Đếm số dòng đã load vào bảng:\n",
        "!hive -S -database ueh_bigdata_31221025966 -e \"SELECT COUNT(*) FROM Sale_31221025966;\"\n"
      ],
      "metadata": {
        "colab": {
          "base_uri": "https://localhost:8080/"
        },
        "id": "PrN600AfOfCu",
        "outputId": "921b09d9-0502-4faf-b072-a5e58a1964d4"
      },
      "execution_count": null,
      "outputs": [
        {
          "output_type": "stream",
          "name": "stdout",
          "text": [
            "Hive Session ID = df1a7024-d95b-4512-8b3e-cef87f889cec\n",
            "Hive Session ID = 43ec823f-54cb-4933-9f36-757bfd273952\n",
            "FAILED: SemanticException [Error 10072]: Database does not exist: ueh_bigdata_31221025966\n"
          ]
        }
      ]
    },
    {
      "cell_type": "markdown",
      "source": [
        "### Viết câu truy vấn"
      ],
      "metadata": {
        "id": "8KPAcGZEQZQy"
      }
    },
    {
      "cell_type": "markdown",
      "source": [
        "#### Group theo City, có bao nhiêu đơn hàng, Tổng tiền, đơn hàng lớn nhất, đơn hàng nhỏ nhất và trung bình điểm Rating"
      ],
      "metadata": {
        "id": "tvH5Ty3i08HZ"
      }
    },
    {
      "cell_type": "code",
      "source": [
        "#Group theo City, có bao nhiêu đơn hàng, Tổng tiền, đơn hàng lớn nhất, đơn hàng nhỏ nhất và trung bình điểm Rating\n",
        "\n",
        "!hive -database ueh_bigdata_31221025966 -e \"\\\n",
        "SELECT City, \\\n",
        "       COUNT(*) AS SoLuongDonHang, \\\n",
        "       SUM(Total) AS TongTien, \\\n",
        "       MAX(Total) AS DonHangLonNhat, \\\n",
        "       MIN(Total) AS DonHangNhoNhat, \\\n",
        "       ROUND(AVG(Rating), 2) AS DiemTrungBinh \\\n",
        "FROM Sale_31221025966 \\\n",
        "GROUP BY City;\"\n"
      ],
      "metadata": {
        "colab": {
          "base_uri": "https://localhost:8080/"
        },
        "id": "kp5PPz7PQWRV",
        "outputId": "72c5f59b-80f9-4e7f-b129-991b743fb332"
      },
      "execution_count": null,
      "outputs": [
        {
          "output_type": "stream",
          "name": "stdout",
          "text": [
            "Hive Session ID = f8d689c6-5474-462a-b6b8-1cf41e00f65d\n",
            "\n",
            "Logging initialized using configuration in jar:file:/content/apache-hive-3.1.3-bin/lib/hive-common-3.1.3.jar!/hive-log4j2.properties Async: true\n",
            "Hive Session ID = 22937474-951a-4384-8901-02847921f8f5\n",
            "OK\n",
            "Time taken: 1.247 seconds\n",
            "Query ID = root_20250411143107_944fc8df-4fe2-42ef-924e-aa600d701946\n",
            "Total jobs = 1\n",
            "Launching Job 1 out of 1\n",
            "Number of reduce tasks not specified. Estimated from input data size: 1\n",
            "In order to change the average load for a reducer (in bytes):\n",
            "  set hive.exec.reducers.bytes.per.reducer=<number>\n",
            "In order to limit the maximum number of reducers:\n",
            "  set hive.exec.reducers.max=<number>\n",
            "In order to set a constant number of reducers:\n",
            "  set mapreduce.job.reduces=<number>\n",
            "Job running in-process (local Hadoop)\n",
            "2025-04-11 14:31:14,814 Stage-1 map = 100%,  reduce = 0%\n",
            "2025-04-11 14:31:15,826 Stage-1 map = 100%,  reduce = 100%\n",
            "Ended Job = job_local1028287766_0001\n",
            "MapReduce Jobs Launched: \n",
            "Stage-Stage-1:  HDFS Read: 0 HDFS Write: 0 SUCCESS\n",
            "Total MapReduce CPU Time Spent: 0 msec\n",
            "OK\n",
            "Mandalay\t332\t106197.67218780518\t1022.49\t18.6375\t6.82\n",
            "Naypyitaw\t328\t110568.70661830902\t1042.65\t10.6785\t7.07\n",
            "Yangon\t340\t106200.3703994751\t1039.29\t12.6945\t7.03\n",
            "Time taken: 8.794 seconds, Fetched: 3 row(s)\n"
          ]
        }
      ]
    },
    {
      "cell_type": "markdown",
      "source": [
        "#### Liệt kê 10 đơn hàng có giá trị cao nhất"
      ],
      "metadata": {
        "id": "m2FeFEIp0_-s"
      }
    },
    {
      "cell_type": "code",
      "source": [
        "#Liệt kê 10 đơn hàng có giá trị cao nhất\n",
        "\n",
        "!hive -database ueh_bigdata_31221025966 -e \"\\\n",
        "SELECT InvoiceID, City, Branch, CustomerType, Gender, ProductLine, Total, Rating \\\n",
        "FROM Sale_31221025966 \\\n",
        "ORDER BY Total DESC \\\n",
        "LIMIT 10;\"\n"
      ],
      "metadata": {
        "colab": {
          "base_uri": "https://localhost:8080/"
        },
        "id": "gYOKPqMEQYTx",
        "outputId": "ae06cbef-98eb-4b94-ad6e-60f65d4df7d4"
      },
      "execution_count": null,
      "outputs": [
        {
          "output_type": "stream",
          "name": "stdout",
          "text": [
            "Hive Session ID = 99ed7bde-67b0-474c-bc77-1e1fa426ea50\n",
            "\n",
            "Logging initialized using configuration in jar:file:/content/apache-hive-3.1.3-bin/lib/hive-common-3.1.3.jar!/hive-log4j2.properties Async: true\n",
            "Hive Session ID = 96b99d5f-a5d5-477c-8a77-6beef09782e1\n",
            "OK\n",
            "Time taken: 1.278 seconds\n",
            "Query ID = root_20250411143922_86d8171e-3db4-4734-924f-b7553394c79e\n",
            "Total jobs = 1\n",
            "Launching Job 1 out of 1\n",
            "Number of reduce tasks determined at compile time: 1\n",
            "In order to change the average load for a reducer (in bytes):\n",
            "  set hive.exec.reducers.bytes.per.reducer=<number>\n",
            "In order to limit the maximum number of reducers:\n",
            "  set hive.exec.reducers.max=<number>\n",
            "In order to set a constant number of reducers:\n",
            "  set mapreduce.job.reduces=<number>\n",
            "Job running in-process (local Hadoop)\n",
            "2025-04-11 14:39:29,263 Stage-1 map = 0%,  reduce = 0%\n",
            "2025-04-11 14:39:30,277 Stage-1 map = 100%,  reduce = 100%\n",
            "Ended Job = job_local815717641_0001\n",
            "MapReduce Jobs Launched: \n",
            "Stage-Stage-1:  HDFS Read: 0 HDFS Write: 0 SUCCESS\n",
            "Total MapReduce CPU Time Spent: 0 msec\n",
            "OK\n",
            "860-79-0874\tNaypyitaw\tC\tMember\tFemale\tFashion accessories\t1042.65\t6.6\n",
            "687-47-8271\tYangon\tA\tNormal\tMale\tFashion accessories\t1039.29\t8.7\n",
            "283-26-5248\tNaypyitaw\tC\tMember\tFemale\tFood and beverages\t1034.46\t4.5\n",
            "751-41-9720\tNaypyitaw\tC\tNormal\tMale\tHome and lifestyle\t1023.75\t8.0\n",
            "303-96-2227\tMandalay\tB\tNormal\tFemale\tHome and lifestyle\t1022.49\t4.4\n",
            "744-16-7898\tMandalay\tB\tNormal\tFemale\tHome and lifestyle\t1022.385\t4.9\n",
            "271-88-8734\tNaypyitaw\tC\tMember\tFemale\tFashion accessories\t1020.705\t8.7\n",
            "234-65-2137\tNaypyitaw\tC\tNormal\tMale\tHome and lifestyle\t1003.59\t4.8\n",
            "554-42-2417\tNaypyitaw\tC\tNormal\tFemale\tSports and travel\t1002.12\t5.2\n",
            "325-77-6186\tYangon\tA\tMember\tFemale\tHome and lifestyle\t951.825\t7.3\n",
            "Time taken: 8.059 seconds, Fetched: 10 row(s)\n"
          ]
        }
      ]
    },
    {
      "cell_type": "markdown",
      "source": [
        "#### Tính toán tổng doanh thu và lợi nhuận từ các đơn hàng đã hoàn thành."
      ],
      "metadata": {
        "id": "a9kkXJEU1EOq"
      }
    },
    {
      "cell_type": "code",
      "source": [
        "#Tính toán tổng doanh thu và lợi nhuận từ các đơn hàng đã hoàn thành.\n",
        "\n",
        "!hive -database ueh_bigdata_31221025966 -e \"\\\n",
        "SELECT ROUND(SUM(Total), 2) AS TongDoanhThu, \\\n",
        "       ROUND(SUM(GrossIncome), 2) AS TongLoiNhuan \\\n",
        "FROM Sale_31221025966;\"\n"
      ],
      "metadata": {
        "colab": {
          "base_uri": "https://localhost:8080/"
        },
        "id": "iZQSRoQQQxhB",
        "outputId": "938f9f05-67d2-4b41-93ed-f5489d09872a"
      },
      "execution_count": null,
      "outputs": [
        {
          "output_type": "stream",
          "name": "stdout",
          "text": [
            "Hive Session ID = be3ec5ac-e991-449a-8a84-e17ab1660552\n",
            "\n",
            "Logging initialized using configuration in jar:file:/content/apache-hive-3.1.3-bin/lib/hive-common-3.1.3.jar!/hive-log4j2.properties Async: true\n",
            "Hive Session ID = 454ac7e6-02fe-444e-b859-c08f52f5f07d\n",
            "OK\n",
            "Time taken: 1.396 seconds\n",
            "Query ID = root_20250411143947_294cbd2d-e192-4ec6-96b3-a56c3540e162\n",
            "Total jobs = 1\n",
            "Launching Job 1 out of 1\n",
            "Number of reduce tasks determined at compile time: 1\n",
            "In order to change the average load for a reducer (in bytes):\n",
            "  set hive.exec.reducers.bytes.per.reducer=<number>\n",
            "In order to limit the maximum number of reducers:\n",
            "  set hive.exec.reducers.max=<number>\n",
            "In order to set a constant number of reducers:\n",
            "  set mapreduce.job.reduces=<number>\n",
            "Job running in-process (local Hadoop)\n",
            "2025-04-11 14:39:54,844 Stage-1 map = 100%,  reduce = 0%\n",
            "2025-04-11 14:39:55,856 Stage-1 map = 100%,  reduce = 100%\n",
            "Ended Job = job_local1160734477_0001\n",
            "MapReduce Jobs Launched: \n",
            "Stage-Stage-1:  HDFS Read: 0 HDFS Write: 0 SUCCESS\n",
            "Total MapReduce CPU Time Spent: 0 msec\n",
            "OK\n",
            "322966.75\t15379.37\n",
            "Time taken: 8.614 seconds, Fetched: 1 row(s)\n"
          ]
        }
      ]
    },
    {
      "cell_type": "markdown",
      "source": [
        "# 3.0 Bulk Data - Super Store Data"
      ],
      "metadata": {
        "id": "SHUcIMmrbo4z"
      }
    },
    {
      "cell_type": "code",
      "source": [
        "#Get Data File\n",
        "!wget -q -O SS_Orders.csv 'https://raw.githubusercontent.com/Praxis-QR/RDWH/main/data/SS_Orders.csv'\n",
        "!head SS_Orders.csv"
      ],
      "metadata": {
        "colab": {
          "base_uri": "https://localhost:8080/"
        },
        "id": "VRVjbJFXmc2_",
        "outputId": "b0079151-56e5-4675-ecce-5a45e28a4a66"
      },
      "execution_count": null,
      "outputs": [
        {
          "output_type": "stream",
          "name": "stdout",
          "text": [
            "Row ID,Order ID,Order Date,Ship Date,Ship Mode,Customer ID,Customer Name,Segment,Country,City,State,Postal Code,Region,Product ID,Category,Sub-Category,Product Name,Sales,Quantity,Discount,Profit\n",
            "1,CA-2016-152156,08/11/2016,11/11/2016,Second Class,CG-12520,Claire Gute,Consumer,United States,Henderson,Kentucky,42420,South,FUR-BO-10001798,Furniture,Bookcases,Bush Somerset Collection Bookcase,261.96,2,0,41.9136\n",
            "2,CA-2016-152156,08/11/2016,11/11/2016,Second Class,CG-12520,Claire Gute,Consumer,United States,Henderson,Kentucky,42420,South,FUR-CH-10000454,Furniture,Chairs,\"Hon Deluxe Fabric Upholstered Stacking Chairs, Rounded Back\",731.94,3,0,219.582\n",
            "3,CA-2016-138688,12/06/2016,16/06/2016,Second Class,DV-13045,Darrin Van Huff,Corporate,United States,Los Angeles,California,90036,West,OFF-LA-10000240,Office Supplies,Labels,Self-Adhesive Address Labels for Typewriters by Universal,14.62,2,0,6.8714\n",
            "4,US-2015-108966,11/10/2015,18/10/2015,Standard Class,SO-20335,Sean O'Donnell,Consumer,United States,Fort Lauderdale,Florida,33311,South,FUR-TA-10000577,Furniture,Tables,Bretford CR4500 Series Slim Rectangular Table,957.5775,5,0.45,-383.031\n",
            "5,US-2015-108966,11/10/2015,18/10/2015,Standard Class,SO-20335,Sean O'Donnell,Consumer,United States,Fort Lauderdale,Florida,33311,South,OFF-ST-10000760,Office Supplies,Storage,Eldon Fold 'N Roll Cart System,22.368,2,0.2,2.5164\n",
            "6,CA-2014-115812,09/06/2014,14/06/2014,Standard Class,BH-11710,Brosina Hoffman,Consumer,United States,Los Angeles,California,90032,West,FUR-FU-10001487,Furniture,Furnishings,\"Eldon Expressions Wood and Plastic Desk Accessories, Cherry Wood\",48.86,7,0,14.1694\n",
            "7,CA-2014-115812,09/06/2014,14/06/2014,Standard Class,BH-11710,Brosina Hoffman,Consumer,United States,Los Angeles,California,90032,West,OFF-AR-10002833,Office Supplies,Art,Newell 322,7.28,4,0,1.9656\n",
            "8,CA-2014-115812,09/06/2014,14/06/2014,Standard Class,BH-11710,Brosina Hoffman,Consumer,United States,Los Angeles,California,90032,West,TEC-PH-10002275,Technology,Phones,Mitel 5320 IP Phone VoIP phone,907.152,6,0.2,90.7152\n",
            "9,CA-2014-115812,09/06/2014,14/06/2014,Standard Class,BH-11710,Brosina Hoffman,Consumer,United States,Los Angeles,California,90032,West,OFF-BI-10003910,Office Supplies,Binders,DXL Angle-View Binders with Locking Rings by Samsill,18.504,3,0.2,5.7825\n"
          ]
        }
      ]
    },
    {
      "cell_type": "code",
      "source": [
        "!hive -S -database praxisDB -e \"\\\n",
        "drop table if exists ss_order;\\\n",
        "CREATE TABLE IF NOT EXISTS ss_order (\\\n",
        "    RowID smallint,\\\n",
        "    OrderID char(14),OrderDate string,\\\n",
        "    ShipDate string,ShipMode varchar(16),\\\n",
        "    CustomerID char(8),CustomerName varchar(30),Segment varchar(20),\\\n",
        "    Country varchar(30),City varchar(30),State varchar(30),PostalCode char(5),Region varchar(15) ,\\\n",
        "    ProductID varchar(20), Category varchar(40), SubCategory varchar(40), ProductName varchar(200), \\\n",
        "    Sales decimal(8,2), Quantity smallint, Discount decimal(4,2), Profit decimal(8,2) \\\n",
        ") row format delimited fields terminated by ','; \\\n",
        "describe ss_order;\\\n",
        "\""
      ],
      "metadata": {
        "id": "pRebpZNKcJUO",
        "outputId": "2702b5c8-f0ab-4f5c-9759-07d71c1a8168",
        "colab": {
          "base_uri": "https://localhost:8080/"
        }
      },
      "execution_count": null,
      "outputs": [
        {
          "output_type": "stream",
          "name": "stdout",
          "text": [
            "Hive Session ID = 398c01c8-7242-43f0-aff8-3bc77a00f2a8\n",
            "Hive Session ID = 991d65cf-5e20-46be-90b7-6594752d9f78\n",
            "rowid               \tsmallint            \t                    \n",
            "orderid             \tchar(14)            \t                    \n",
            "orderdate           \tstring              \t                    \n",
            "shipdate            \tstring              \t                    \n",
            "shipmode            \tvarchar(16)         \t                    \n",
            "customerid          \tchar(8)             \t                    \n",
            "customername        \tvarchar(30)         \t                    \n",
            "segment             \tvarchar(20)         \t                    \n",
            "country             \tvarchar(30)         \t                    \n",
            "city                \tvarchar(30)         \t                    \n",
            "state               \tvarchar(30)         \t                    \n",
            "postalcode          \tchar(5)             \t                    \n",
            "region              \tvarchar(15)         \t                    \n",
            "productid           \tvarchar(20)         \t                    \n",
            "category            \tvarchar(40)         \t                    \n",
            "subcategory         \tvarchar(40)         \t                    \n",
            "productname         \tvarchar(200)        \t                    \n",
            "sales               \tdecimal(8,2)        \t                    \n",
            "quantity            \tsmallint            \t                    \n",
            "discount            \tdecimal(4,2)        \t                    \n",
            "profit              \tdecimal(8,2)        \t                    \n"
          ]
        }
      ]
    },
    {
      "cell_type": "code",
      "source": [
        "#remove the CRLF character from the end of the row if it exists\n",
        "#!sed 's/[^a-zA-Z0-9,\\/\\.\\-]/ /g' SS_Orders.csv > datafile.csv\n",
        "!sed 's/\\r//' /content/SS_Orders.csv > datafile.csv\n",
        "#!sed 's/\\r//' /content/eCommerce_02PC_2021.csv > datafile.csv\n",
        "# remove the first line containing headers from the file\n",
        "!sed -i -e \"1d\" datafile.csv\n",
        "!head datafile.csv"
      ],
      "metadata": {
        "colab": {
          "base_uri": "https://localhost:8080/"
        },
        "id": "TS5uXZ8jnL93",
        "outputId": "165adc22-89fc-460d-c3dc-8bb14d379ab0"
      },
      "execution_count": null,
      "outputs": [
        {
          "output_type": "stream",
          "name": "stdout",
          "text": [
            "1,CA-2016-152156,08/11/2016,11/11/2016,Second Class,CG-12520,Claire Gute,Consumer,United States,Henderson,Kentucky,42420,South,FUR-BO-10001798,Furniture,Bookcases,Bush Somerset Collection Bookcase,261.96,2,0,41.9136\n",
            "2,CA-2016-152156,08/11/2016,11/11/2016,Second Class,CG-12520,Claire Gute,Consumer,United States,Henderson,Kentucky,42420,South,FUR-CH-10000454,Furniture,Chairs,\"Hon Deluxe Fabric Upholstered Stacking Chairs, Rounded Back\",731.94,3,0,219.582\n",
            "3,CA-2016-138688,12/06/2016,16/06/2016,Second Class,DV-13045,Darrin Van Huff,Corporate,United States,Los Angeles,California,90036,West,OFF-LA-10000240,Office Supplies,Labels,Self-Adhesive Address Labels for Typewriters by Universal,14.62,2,0,6.8714\n",
            "4,US-2015-108966,11/10/2015,18/10/2015,Standard Class,SO-20335,Sean O'Donnell,Consumer,United States,Fort Lauderdale,Florida,33311,South,FUR-TA-10000577,Furniture,Tables,Bretford CR4500 Series Slim Rectangular Table,957.5775,5,0.45,-383.031\n",
            "5,US-2015-108966,11/10/2015,18/10/2015,Standard Class,SO-20335,Sean O'Donnell,Consumer,United States,Fort Lauderdale,Florida,33311,South,OFF-ST-10000760,Office Supplies,Storage,Eldon Fold 'N Roll Cart System,22.368,2,0.2,2.5164\n",
            "6,CA-2014-115812,09/06/2014,14/06/2014,Standard Class,BH-11710,Brosina Hoffman,Consumer,United States,Los Angeles,California,90032,West,FUR-FU-10001487,Furniture,Furnishings,\"Eldon Expressions Wood and Plastic Desk Accessories, Cherry Wood\",48.86,7,0,14.1694\n",
            "7,CA-2014-115812,09/06/2014,14/06/2014,Standard Class,BH-11710,Brosina Hoffman,Consumer,United States,Los Angeles,California,90032,West,OFF-AR-10002833,Office Supplies,Art,Newell 322,7.28,4,0,1.9656\n",
            "8,CA-2014-115812,09/06/2014,14/06/2014,Standard Class,BH-11710,Brosina Hoffman,Consumer,United States,Los Angeles,California,90032,West,TEC-PH-10002275,Technology,Phones,Mitel 5320 IP Phone VoIP phone,907.152,6,0.2,90.7152\n",
            "9,CA-2014-115812,09/06/2014,14/06/2014,Standard Class,BH-11710,Brosina Hoffman,Consumer,United States,Los Angeles,California,90032,West,OFF-BI-10003910,Office Supplies,Binders,DXL Angle-View Binders with Locking Rings by Samsill,18.504,3,0.2,5.7825\n",
            "10,CA-2014-115812,09/06/2014,14/06/2014,Standard Class,BH-11710,Brosina Hoffman,Consumer,United States,Los Angeles,California,90032,West,OFF-AP-10002892,Office Supplies,Appliances,Belkin F5C206VTEL 6 Outlet Surge,114.9,5,0,34.47\n"
          ]
        }
      ]
    },
    {
      "cell_type": "code",
      "source": [
        "!hive -S -database praxisdb -e \"\\\n",
        "TRUNCATE TABLE ss_order;\\\n",
        "LOAD DATA LOCAL INPATH 'datafile.csv' INTO TABLE ss_order;\\\n",
        "\""
      ],
      "metadata": {
        "colab": {
          "base_uri": "https://localhost:8080/"
        },
        "id": "DDPy6d7Em3EX",
        "outputId": "e926503f-c2c2-4fe3-fb84-00310b6c8a06"
      },
      "execution_count": null,
      "outputs": [
        {
          "output_type": "stream",
          "name": "stdout",
          "text": [
            "Hive Session ID = d56b0286-e0c3-4b77-b406-7e9a8290e861\n",
            "Hive Session ID = 29df1d3a-06b9-4962-a2bf-61bbc8afa133\n"
          ]
        }
      ]
    },
    {
      "cell_type": "code",
      "source": [
        "!hive -S -database praxisdb -e \"\\\n",
        "select count(*) from ss_order;\\\n",
        "select * from ss_order limit 10;\\\n",
        "\""
      ],
      "metadata": {
        "colab": {
          "base_uri": "https://localhost:8080/"
        },
        "id": "-hyx6Z4VUsZ6",
        "outputId": "ba29ee68-5361-46c2-c52f-e98579595e95"
      },
      "execution_count": null,
      "outputs": [
        {
          "output_type": "stream",
          "name": "stdout",
          "text": [
            "Hive Session ID = 3a34d10e-692a-426d-b515-a30e12266982\n",
            "Hive Session ID = c36111f0-f279-43d0-a3e8-1876a26ce5ae\n",
            "9994\n",
            "1\tCA-2016-152156\t08/11/2016\t11/11/2016\tSecond Class\tCG-12520\tClaire Gute\tConsumer\tUnited States\tHenderson\tKentucky\t42420\tSouth\tFUR-BO-10001798\tFurniture\tBookcases\tBush Somerset Collection Bookcase\t261.96\t2\t0.00\t41.91\n",
            "2\tCA-2016-152156\t08/11/2016\t11/11/2016\tSecond Class\tCG-12520\tClaire Gute\tConsumer\tUnited States\tHenderson\tKentucky\t42420\tSouth\tFUR-CH-10000454\tFurniture\tChairs\t\"Hon Deluxe Fabric Upholstered Stacking Chairs\tNULL\t731\t3.00\t0.00\n",
            "3\tCA-2016-138688\t12/06/2016\t16/06/2016\tSecond Class\tDV-13045\tDarrin Van Huff\tCorporate\tUnited States\tLos Angeles\tCalifornia\t90036\tWest\tOFF-LA-10000240\tOffice Supplies\tLabels\tSelf-Adhesive Address Labels for Typewriters by Universal\t14.62\t2\t0.00\t6.87\n",
            "4\tUS-2015-108966\t11/10/2015\t18/10/2015\tStandard Class\tSO-20335\tSean O'Donnell\tConsumer\tUnited States\tFort Lauderdale\tFlorida\t33311\tSouth\tFUR-TA-10000577\tFurniture\tTables\tBretford CR4500 Series Slim Rectangular Table\t957.58\t5\t0.45\t-383.03\n",
            "5\tUS-2015-108966\t11/10/2015\t18/10/2015\tStandard Class\tSO-20335\tSean O'Donnell\tConsumer\tUnited States\tFort Lauderdale\tFlorida\t33311\tSouth\tOFF-ST-10000760\tOffice Supplies\tStorage\tEldon Fold 'N Roll Cart System\t22.37\t2\t0.20\t2.52\n",
            "6\tCA-2014-115812\t09/06/2014\t14/06/2014\tStandard Class\tBH-11710\tBrosina Hoffman\tConsumer\tUnited States\tLos Angeles\tCalifornia\t90032\tWest\tFUR-FU-10001487\tFurniture\tFurnishings\t\"Eldon Expressions Wood and Plastic Desk Accessories\tNULL\t48\t7.00\t0.00\n",
            "7\tCA-2014-115812\t09/06/2014\t14/06/2014\tStandard Class\tBH-11710\tBrosina Hoffman\tConsumer\tUnited States\tLos Angeles\tCalifornia\t90032\tWest\tOFF-AR-10002833\tOffice Supplies\tArt\tNewell 322\t7.28\t4\t0.00\t1.97\n",
            "8\tCA-2014-115812\t09/06/2014\t14/06/2014\tStandard Class\tBH-11710\tBrosina Hoffman\tConsumer\tUnited States\tLos Angeles\tCalifornia\t90032\tWest\tTEC-PH-10002275\tTechnology\tPhones\tMitel 5320 IP Phone VoIP phone\t907.15\t6\t0.20\t90.72\n",
            "9\tCA-2014-115812\t09/06/2014\t14/06/2014\tStandard Class\tBH-11710\tBrosina Hoffman\tConsumer\tUnited States\tLos Angeles\tCalifornia\t90032\tWest\tOFF-BI-10003910\tOffice Supplies\tBinders\tDXL Angle-View Binders with Locking Rings by Samsill\t18.50\t3\t0.20\t5.78\n",
            "10\tCA-2014-115812\t09/06/2014\t14/06/2014\tStandard Class\tBH-11710\tBrosina Hoffman\tConsumer\tUnited States\tLos Angeles\tCalifornia\t90032\tWest\tOFF-AP-10002892\tOffice Supplies\tAppliances\tBelkin F5C206VTEL 6 Outlet Surge\t114.90\t5\t0.00\t34.47\n"
          ]
        }
      ]
    },
    {
      "cell_type": "code",
      "source": [
        "from datetime import datetime\n",
        "import pytz\n",
        "print('signed off at  ',datetime.now(pytz.timezone('Asia/Ho_Chi_Minh')))"
      ],
      "metadata": {
        "id": "EcYz-5uQedkd",
        "colab": {
          "base_uri": "https://localhost:8080/"
        },
        "outputId": "b2a9bd7f-85a1-40af-dd70-2b80a7436745"
      },
      "execution_count": null,
      "outputs": [
        {
          "output_type": "stream",
          "name": "stdout",
          "text": [
            "signed off at   2025-04-11 21:43:04.128313+07:00\n"
          ]
        }
      ]
    }
  ]
}