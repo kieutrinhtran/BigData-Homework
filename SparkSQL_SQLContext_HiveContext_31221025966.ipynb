{
  "nbformat": 4,
  "nbformat_minor": 0,
  "metadata": {
    "colab": {
      "provenance": [],
      "toc_visible": true,
      "include_colab_link": true
    },
    "kernelspec": {
      "name": "python3",
      "display_name": "Python 3"
    }
  },
  "cells": [
    {
      "cell_type": "markdown",
      "metadata": {
        "id": "view-in-github",
        "colab_type": "text"
      },
      "source": [
        "<a href=\"https://colab.research.google.com/github/kieutrinhtran/BigData-Homework/blob/main/SparkSQL_SQLContext_HiveContext_31221025966.ipynb\" target=\"_parent\"><img src=\"https://colab.research.google.com/assets/colab-badge.svg\" alt=\"Open In Colab\"/></a>"
      ]
    },
    {
      "cell_type": "markdown",
      "source": [
        "# SparkSQL_SQLContext_HiveContext"
      ],
      "metadata": {
        "id": "Rkd4vldMF27h"
      }
    },
    {
      "cell_type": "code",
      "source": [
        "from datetime import datetime\n",
        "import pytz\n",
        "print('Tested',datetime.now(pytz.timezone('Asia/Ho_Chi_Minh')))"
      ],
      "metadata": {
        "colab": {
          "base_uri": "https://localhost:8080/"
        },
        "id": "NMU1bbSAEoR3",
        "outputId": "8759ffaa-831a-4d58-d2bf-d34986e31bd2"
      },
      "execution_count": 1,
      "outputs": [
        {
          "output_type": "stream",
          "name": "stdout",
          "text": [
            "Tested 2025-04-17 14:21:36.848315+07:00\n"
          ]
        }
      ]
    },
    {
      "cell_type": "markdown",
      "metadata": {
        "id": "cigqrh_QpSPu"
      },
      "source": [
        "# SPARK SQL\n",
        "If you wish to run HIVE natively under Hadoop please see this notebook [Hadoop and Hive](https://github.com/prithwis/KKolab/blob/main/KK_B2_Hadoop_and_Hive.ipynb)"
      ]
    },
    {
      "cell_type": "markdown",
      "metadata": {
        "id": "BQxaKP3-ugUs"
      },
      "source": [
        "# Install Spark"
      ]
    },
    {
      "cell_type": "markdown",
      "source": [
        "## PIP Install Spark"
      ],
      "metadata": {
        "id": "3P0Z_WDSBsQI"
      }
    },
    {
      "cell_type": "code",
      "source": [
        "#!pip3 -q install pyspark==3.0.3    # Problem with newer spark versions resolved, no need to install older version\n",
        "!pip3 -q install pyspark\n",
        "from pyspark.sql import SparkSession\n",
        "spark = SparkSession.builder.master(\"local[*]\").getOrCreate()\n",
        "sc = spark.sparkContext\n",
        "sc"
      ],
      "metadata": {
        "colab": {
          "base_uri": "https://localhost:8080/",
          "height": 198
        },
        "id": "36uWkLtcBx4V",
        "outputId": "45487dec-fa6d-458e-d8df-36b1a89e19f6"
      },
      "execution_count": 2,
      "outputs": [
        {
          "output_type": "execute_result",
          "data": {
            "text/plain": [
              "<SparkContext master=local[*] appName=pyspark-shell>"
            ],
            "text/html": [
              "\n",
              "        <div>\n",
              "            <p><b>SparkContext</b></p>\n",
              "\n",
              "            <p><a href=\"http://721de315c4ae:4040\">Spark UI</a></p>\n",
              "\n",
              "            <dl>\n",
              "              <dt>Version</dt>\n",
              "                <dd><code>v3.5.5</code></dd>\n",
              "              <dt>Master</dt>\n",
              "                <dd><code>local[*]</code></dd>\n",
              "              <dt>AppName</dt>\n",
              "                <dd><code>pyspark-shell</code></dd>\n",
              "            </dl>\n",
              "        </div>\n",
              "        "
            ]
          },
          "metadata": {},
          "execution_count": 2
        }
      ]
    },
    {
      "cell_type": "markdown",
      "metadata": {
        "id": "bAyLqUDFyjjQ"
      },
      "source": [
        "# Load Data"
      ]
    },
    {
      "cell_type": "code",
      "metadata": {
        "colab": {
          "base_uri": "https://localhost:8080/"
        },
        "id": "jxJ5mTuHyllU",
        "outputId": "228d519b-1dbf-491c-88e1-31a6c3b85966"
      },
      "source": [
        "# Data files downloaded from author's G-Drive\n",
        "#!gdown https://drive.google.com/uc?id=1JJH24ZZaiJrEKValD--UtyFcWl7UanwV  # 2% data\n",
        "#!wget -q 'https://raw.githubusercontent.com/Praxis-QR/BDSN/main/data/OLAP/eCommerce_02PC_2021.csv' # 2% data\n",
        "\n",
        "#!gdown https://drive.google.com/uc?id=1g7mJ0v4fkERW0HWc1eq-SHs_jvQ0N2Oe  # 100% data\n",
        "!wget -q 'https://raw.githubusercontent.com/Praxis-QR/BDSN/main/data/OLAP/eCommerce_Full_2021.csv' # 100% data\n",
        "\n",
        "!ls -al"
      ],
      "execution_count": 3,
      "outputs": [
        {
          "output_type": "stream",
          "name": "stdout",
          "text": [
            "total 44000\n",
            "drwxr-xr-x 1 root root     4096 Apr 18 11:13 .\n",
            "drwxr-xr-x 1 root root     4096 Apr 18 11:12 ..\n",
            "drwxr-xr-x 4 root root     4096 Apr 16 13:40 .config\n",
            "-rw-r--r-- 1 root root 45038728 Apr 18 11:13 eCommerce_Full_2021.csv\n",
            "drwxr-xr-x 1 root root     4096 Apr 16 13:40 sample_data\n"
          ]
        }
      ]
    },
    {
      "cell_type": "code",
      "metadata": {
        "id": "tqcZoCSe9QjY",
        "colab": {
          "base_uri": "https://localhost:8080/"
        },
        "outputId": "73e57882-ff0c-4549-a911-32f2218b1a03"
      },
      "source": [
        "#we remove the CRLF character from the end of the row if it exists\n",
        "!sed 's/\\r//' /content/eCommerce_Full_2021.csv > datafile.csv\n",
        "#!sed 's/\\r//' /content/eCommerce_02PC_2021.csv > datafile.csv\n",
        "\n",
        "\n",
        "#sed -i -e \"1d\" datafile.csv               # remove the first line containing headers from the file\n",
        "\n",
        "data_file = 'datafile.csv'\n",
        "raw_data = sc.textFile(data_file)\n",
        "print (\"Data Size\", raw_data.count())"
      ],
      "execution_count": 4,
      "outputs": [
        {
          "output_type": "stream",
          "name": "stdout",
          "text": [
            "Data Size 541910\n"
          ]
        }
      ]
    },
    {
      "cell_type": "markdown",
      "metadata": {
        "id": "CYyko_-I1DnL"
      },
      "source": [
        "#Spark Data Frame"
      ]
    },
    {
      "cell_type": "markdown",
      "source": [
        "## Import dữ liệu vào Spark và xem cấu trúc dữ liệu"
      ],
      "metadata": {
        "id": "ROkNBwMAp3NU"
      }
    },
    {
      "cell_type": "code",
      "metadata": {
        "id": "rjnrF4hrzwbj",
        "outputId": "cbae464c-ecd2-4186-ff0b-d4bafdc4be29",
        "colab": {
          "base_uri": "https://localhost:8080/"
        }
      },
      "source": [
        "# CSV to Spark Dataframe\n",
        "eCommerce_df = spark.read.csv(data_file,inferSchema=True, header=True)\n",
        "eCommerce_df.printSchema()          # Spark is smart enough to differentiate between text and numbers\n",
        "                                    # Presence of comma in string fields has been handled correctly"
      ],
      "execution_count": 5,
      "outputs": [
        {
          "output_type": "stream",
          "name": "stdout",
          "text": [
            "root\n",
            " |-- InvoiceNo: string (nullable = true)\n",
            " |-- StockCode: string (nullable = true)\n",
            " |-- Description: string (nullable = true)\n",
            " |-- Quantity: integer (nullable = true)\n",
            " |-- InvoiceDate: string (nullable = true)\n",
            " |-- UnitPrice: double (nullable = true)\n",
            " |-- CustomerID: integer (nullable = true)\n",
            " |-- Country: string (nullable = true)\n",
            "\n"
          ]
        }
      ]
    },
    {
      "cell_type": "markdown",
      "source": [
        "## Đếm số giao dịch ở mỗi quốc gia, sắp xếp giảm dần theo số lượng giao dịch"
      ],
      "metadata": {
        "id": "o1YAHJkiqC1-"
      }
    },
    {
      "cell_type": "code",
      "metadata": {
        "colab": {
          "base_uri": "https://localhost:8080/"
        },
        "id": "OH_nAI751nuQ",
        "outputId": "ea3c550b-1728-44c2-e038-525a53dd7472"
      },
      "source": [
        "eCommerce_df.select('Quantity','UnitPrice','Country').groupby(eCommerce_df.Country).count().sort('count', ascending = False).show()"
      ],
      "execution_count": 6,
      "outputs": [
        {
          "output_type": "stream",
          "name": "stdout",
          "text": [
            "+---------------+------+\n",
            "|        Country| count|\n",
            "+---------------+------+\n",
            "| United Kingdom|495478|\n",
            "|        Germany|  9495|\n",
            "|         France|  8557|\n",
            "|           EIRE|  8196|\n",
            "|          Spain|  2533|\n",
            "|    Netherlands|  2371|\n",
            "|        Belgium|  2069|\n",
            "|    Switzerland|  2002|\n",
            "|       Portugal|  1519|\n",
            "|      Australia|  1259|\n",
            "|         Norway|  1086|\n",
            "|          Italy|   803|\n",
            "|Channel Islands|   758|\n",
            "|        Finland|   695|\n",
            "|         Cyprus|   622|\n",
            "|         Sweden|   462|\n",
            "|    Unspecified|   446|\n",
            "|        Austria|   401|\n",
            "|        Denmark|   389|\n",
            "|          Japan|   358|\n",
            "+---------------+------+\n",
            "only showing top 20 rows\n",
            "\n"
          ]
        }
      ]
    },
    {
      "cell_type": "markdown",
      "source": [
        "## Hiển thị 10 khách hàng mua với doanh số cao nhất, sắp xếp giảm dần theo doanh số"
      ],
      "metadata": {
        "id": "KG9ivSFXptYQ"
      }
    },
    {
      "cell_type": "code",
      "source": [
        "eCommerce_df = eCommerce_df.withColumn(\"TotalPrice\", eCommerce_df[\"Quantity\"] * eCommerce_df[\"UnitPrice\"])"
      ],
      "metadata": {
        "id": "BhBWOOpMqsVJ"
      },
      "execution_count": 9,
      "outputs": []
    },
    {
      "cell_type": "code",
      "source": [
        "# Nhóm theo CustomerID và tính tổng TotalPrice, sắp xếp giảm dần, lấy top 10\n",
        "eCommerce_df.groupBy(\"CustomerID\") \\\n",
        "    .sum(\"TotalPrice\") \\\n",
        "    .withColumnRenamed(\"sum(TotalPrice)\", \"TotalRevenue\") \\\n",
        "    .orderBy(\"TotalRevenue\", ascending=False) \\\n",
        "    .show(10)"
      ],
      "metadata": {
        "colab": {
          "base_uri": "https://localhost:8080/"
        },
        "id": "Qtf1KhaCroDj",
        "outputId": "b982221f-1c76-441b-aac2-bde1dafd1be8"
      },
      "execution_count": 10,
      "outputs": [
        {
          "output_type": "stream",
          "name": "stdout",
          "text": [
            "+----------+------------------+\n",
            "|CustomerID|      TotalRevenue|\n",
            "+----------+------------------+\n",
            "|      NULL|  1447682.12000015|\n",
            "|     14646|279489.01999999944|\n",
            "|     18102|256438.48999999993|\n",
            "|     17450|187482.16999999998|\n",
            "|     14911|132572.61999999994|\n",
            "|     12415| 123725.4499999999|\n",
            "|     14156|113384.13999999998|\n",
            "|     17511| 88125.37999999992|\n",
            "|     16684| 65892.07999999999|\n",
            "|     13694|62653.100000000006|\n",
            "+----------+------------------+\n",
            "only showing top 10 rows\n",
            "\n"
          ]
        }
      ]
    },
    {
      "cell_type": "code",
      "source": [
        "# xem các dòng có customerid null\n",
        "\n",
        "from pyspark.sql.functions import col\n",
        "\n",
        "# Filter rows where CustomerID is null\n",
        "eCommerce_df.filter(col(\"CustomerID\").isNull()).show()\n"
      ],
      "metadata": {
        "colab": {
          "base_uri": "https://localhost:8080/"
        },
        "id": "vpYOMs7Fr4e3",
        "outputId": "066fb584-18d5-4809-c036-4392ace295d1"
      },
      "execution_count": 11,
      "outputs": [
        {
          "output_type": "stream",
          "name": "stdout",
          "text": [
            "+---------+---------+--------------------+--------+---------------+---------+----------+--------------+------------------+\n",
            "|InvoiceNo|StockCode|         Description|Quantity|    InvoiceDate|UnitPrice|CustomerID|       Country|        TotalPrice|\n",
            "+---------+---------+--------------------+--------+---------------+---------+----------+--------------+------------------+\n",
            "|   536414|    22139|                NULL|      56|12/1/2010 11:52|      0.0|      NULL|United Kingdom|               0.0|\n",
            "|   536544|    21773|DECORATIVE ROSE B...|       1|12/1/2010 14:32|     2.51|      NULL|United Kingdom|              2.51|\n",
            "|   536544|    21774|DECORATIVE CATS B...|       2|12/1/2010 14:32|     2.51|      NULL|United Kingdom|              5.02|\n",
            "|   536544|    21786|  POLKADOT RAIN HAT |       4|12/1/2010 14:32|     0.85|      NULL|United Kingdom|               3.4|\n",
            "|   536544|    21787|RAIN PONCHO RETRO...|       2|12/1/2010 14:32|     1.66|      NULL|United Kingdom|              3.32|\n",
            "|   536544|    21790|  VINTAGE SNAP CARDS|       9|12/1/2010 14:32|     1.66|      NULL|United Kingdom|             14.94|\n",
            "|   536544|    21791|VINTAGE HEADS AND...|       2|12/1/2010 14:32|     2.51|      NULL|United Kingdom|              5.02|\n",
            "|   536544|    21801|CHRISTMAS TREE DE...|      10|12/1/2010 14:32|     0.43|      NULL|United Kingdom|               4.3|\n",
            "|   536544|    21802|CHRISTMAS TREE HE...|       9|12/1/2010 14:32|     0.43|      NULL|United Kingdom|              3.87|\n",
            "|   536544|    21803|CHRISTMAS TREE ST...|      11|12/1/2010 14:32|     0.43|      NULL|United Kingdom|4.7299999999999995|\n",
            "|   536544|    21809|CHRISTMAS HANGING...|       1|12/1/2010 14:32|     2.51|      NULL|United Kingdom|              2.51|\n",
            "|   536544|    21810|CHRISTMAS HANGING...|       3|12/1/2010 14:32|     2.51|      NULL|United Kingdom| 7.529999999999999|\n",
            "|   536544|    21811|CHRISTMAS HANGING...|       1|12/1/2010 14:32|     2.51|      NULL|United Kingdom|              2.51|\n",
            "|   536544|    21821|GLITTER STAR GARL...|       1|12/1/2010 14:32|     7.62|      NULL|United Kingdom|              7.62|\n",
            "|   536544|    21822|GLITTER CHRISTMAS...|       1|12/1/2010 14:32|     4.21|      NULL|United Kingdom|              4.21|\n",
            "|   536544|    21823|PAINTED METAL HEA...|       2|12/1/2010 14:32|     2.98|      NULL|United Kingdom|              5.96|\n",
            "|   536544|    21844|   RED RETROSPOT MUG|       2|12/1/2010 14:32|     5.91|      NULL|United Kingdom|             11.82|\n",
            "|   536544|    21851|LILAC DIAMANTE PE...|       1|12/1/2010 14:32|     4.21|      NULL|United Kingdom|              4.21|\n",
            "|   536544|    21870|I CAN ONLY PLEASE...|       1|12/1/2010 14:32|     3.36|      NULL|United Kingdom|              3.36|\n",
            "|   536544|    21871| SAVE THE PLANET MUG|       5|12/1/2010 14:32|     3.36|      NULL|United Kingdom|              16.8|\n",
            "+---------+---------+--------------------+--------+---------------+---------+----------+--------------+------------------+\n",
            "only showing top 20 rows\n",
            "\n"
          ]
        }
      ]
    },
    {
      "cell_type": "markdown",
      "source": [
        "## Hiển thị doanh thu theo ngày và sắp xếp ngày tăng dần"
      ],
      "metadata": {
        "id": "A3C0eIKxqcaa"
      }
    },
    {
      "cell_type": "code",
      "source": [
        "#đổi tên cột thành InvoiceDateTime\n",
        "eCommerce_df = eCommerce_df.withColumnRenamed(\"InvoiceDate\", \"InvoiceDateTime\")"
      ],
      "metadata": {
        "id": "d2rF_4Q-mYRv"
      },
      "execution_count": 12,
      "outputs": []
    },
    {
      "cell_type": "code",
      "source": [
        "from pyspark.sql.functions import to_date\n",
        "#thêm cột mới InvoiceDate chỉ chứa date với định dạng yyyy-mm-dd\n",
        "eCommerce_df = eCommerce_df.withColumn(\"InvoiceDate\", to_date(\"InvoiceDateTime\", \"M/d/yyyy H:m\"))\n"
      ],
      "metadata": {
        "id": "vz2wYKmqm_9c"
      },
      "execution_count": 18,
      "outputs": []
    },
    {
      "cell_type": "code",
      "source": [
        "eCommerce_df.select(\"InvoiceDate\").show(10)"
      ],
      "metadata": {
        "colab": {
          "base_uri": "https://localhost:8080/"
        },
        "id": "GJu4B9h-vTQP",
        "outputId": "dd81658d-260c-4230-c9f3-87dd3cbb3eb1"
      },
      "execution_count": 20,
      "outputs": [
        {
          "output_type": "stream",
          "name": "stdout",
          "text": [
            "+-----------+\n",
            "|InvoiceDate|\n",
            "+-----------+\n",
            "| 2010-12-01|\n",
            "| 2010-12-01|\n",
            "| 2010-12-01|\n",
            "| 2010-12-01|\n",
            "| 2010-12-01|\n",
            "| 2010-12-01|\n",
            "| 2010-12-01|\n",
            "| 2010-12-01|\n",
            "| 2010-12-01|\n",
            "| 2010-12-01|\n",
            "+-----------+\n",
            "only showing top 10 rows\n",
            "\n"
          ]
        }
      ]
    },
    {
      "cell_type": "code",
      "source": [
        "#xem cấu trúc bảng\n",
        "eCommerce_df.printSchema()"
      ],
      "metadata": {
        "colab": {
          "base_uri": "https://localhost:8080/"
        },
        "id": "iVQDgbK0xAKe",
        "outputId": "0bacac0a-604f-43e4-fbf7-14a1d89ca1eb"
      },
      "execution_count": 22,
      "outputs": [
        {
          "output_type": "stream",
          "name": "stdout",
          "text": [
            "root\n",
            " |-- InvoiceNo: string (nullable = true)\n",
            " |-- StockCode: string (nullable = true)\n",
            " |-- Description: string (nullable = true)\n",
            " |-- Quantity: integer (nullable = true)\n",
            " |-- InvoiceDateTime: string (nullable = true)\n",
            " |-- UnitPrice: double (nullable = true)\n",
            " |-- CustomerID: integer (nullable = true)\n",
            " |-- Country: string (nullable = true)\n",
            " |-- TotalPrice: double (nullable = true)\n",
            " |-- InvoiceDate: date (nullable = true)\n",
            "\n"
          ]
        }
      ]
    },
    {
      "cell_type": "code",
      "source": [
        "# Nhóm theo ngày, tính tổng doanh thu, sắp xếp ngày tăng dần\n",
        "eCommerce_df.groupBy(\"InvoiceDate\") \\\n",
        "    .sum(\"TotalPrice\") \\\n",
        "    .withColumnRenamed(\"sum(TotalPrice)\", \"DailyRevenue\") \\\n",
        "    .orderBy(\"InvoiceDate\", ascending=True) \\\n",
        "    .show()"
      ],
      "metadata": {
        "colab": {
          "base_uri": "https://localhost:8080/"
        },
        "id": "PPLOaanGqf_Z",
        "outputId": "8b09dc02-138f-48c7-a073-e60fae9dc248"
      },
      "execution_count": 26,
      "outputs": [
        {
          "output_type": "stream",
          "name": "stdout",
          "text": [
            "+-----------+------------------+\n",
            "|InvoiceDate|      DailyRevenue|\n",
            "+-----------+------------------+\n",
            "| 2010-12-01| 58635.56000000026|\n",
            "| 2010-12-02| 46207.27999999991|\n",
            "| 2010-12-03|  45620.4599999999|\n",
            "| 2010-12-05| 31383.95000000016|\n",
            "| 2010-12-06|53860.180000000015|\n",
            "| 2010-12-07| 45059.05000000015|\n",
            "| 2010-12-08|44189.839999999866|\n",
            "| 2010-12-09| 52532.13000000003|\n",
            "| 2010-12-10| 57404.91000000017|\n",
            "| 2010-12-12| 17240.92000000005|\n",
            "| 2010-12-13| 35379.34000000009|\n",
            "| 2010-12-14|42843.290000000205|\n",
            "| 2010-12-15| 29443.69000000013|\n",
            "| 2010-12-16| 48334.34999999993|\n",
            "| 2010-12-17| 43534.19000000001|\n",
            "| 2010-12-19| 7517.309999999992|\n",
            "| 2010-12-20|24741.750000000015|\n",
            "| 2010-12-21|47097.939999999915|\n",
            "| 2010-12-22| 6134.569999999999|\n",
            "| 2010-12-23|11796.310000000025|\n",
            "+-----------+------------------+\n",
            "only showing top 20 rows\n",
            "\n"
          ]
        }
      ]
    },
    {
      "cell_type": "markdown",
      "metadata": {
        "id": "aKzL9g6-3yX9"
      },
      "source": [
        "# Spark SQL\n",
        "What is the difference between SQLContext and HiveContext? See [here](https://intellipaat.com/community/7599/what-is-the-difference-between-apache-spark-sqlcontext-vs-hivecontext#:~:text=HiveContext%20is%20a%20super%20set,read%20data%20from%20Hive%20tables.&text=The%20more%20basic%20SQLContext%20provides,does%20not%20depend%20on%20Hive.), or [here](https://stackoverflow.com/questions/33666545/what-is-the-difference-between-apache-spark-sqlcontext-vs-hivecontext)"
      ]
    },
    {
      "cell_type": "markdown",
      "source": [
        "### Tạo bảng tạm t_eCommerce"
      ],
      "metadata": {
        "id": "LP7z8AQzpUfM"
      }
    },
    {
      "cell_type": "code",
      "source": [
        "eCommerce_df.createOrReplaceTempView(\"t_eCommerce\")                    # Create a Spark Table"
      ],
      "metadata": {
        "id": "PrKW3HuwGCVo"
      },
      "execution_count": 27,
      "outputs": []
    },
    {
      "cell_type": "markdown",
      "source": [
        "### Đếm số giao dịch ở mỗi quốc gia và sắp xếp giảm dần"
      ],
      "metadata": {
        "id": "jr05wKCcoiCJ"
      }
    },
    {
      "cell_type": "code",
      "source": [
        "spark.sql(\"SELECT Country, count(*) count FROM t_eCommerce group by Country order by count desc\").show()"
      ],
      "metadata": {
        "colab": {
          "base_uri": "https://localhost:8080/"
        },
        "id": "AWnDVRIfGiv2",
        "outputId": "846f8fee-511d-4bb5-e02c-aefa19590ce7"
      },
      "execution_count": 28,
      "outputs": [
        {
          "output_type": "stream",
          "name": "stdout",
          "text": [
            "+---------------+------+\n",
            "|        Country| count|\n",
            "+---------------+------+\n",
            "| United Kingdom|495478|\n",
            "|        Germany|  9495|\n",
            "|         France|  8557|\n",
            "|           EIRE|  8196|\n",
            "|          Spain|  2533|\n",
            "|    Netherlands|  2371|\n",
            "|        Belgium|  2069|\n",
            "|    Switzerland|  2002|\n",
            "|       Portugal|  1519|\n",
            "|      Australia|  1259|\n",
            "|         Norway|  1086|\n",
            "|          Italy|   803|\n",
            "|Channel Islands|   758|\n",
            "|        Finland|   695|\n",
            "|         Cyprus|   622|\n",
            "|         Sweden|   462|\n",
            "|    Unspecified|   446|\n",
            "|        Austria|   401|\n",
            "|        Denmark|   389|\n",
            "|          Japan|   358|\n",
            "+---------------+------+\n",
            "only showing top 20 rows\n",
            "\n"
          ]
        }
      ]
    },
    {
      "cell_type": "markdown",
      "source": [
        "### Tổng doanh thu theo quốc gia"
      ],
      "metadata": {
        "id": "g045FVulRN0s"
      }
    },
    {
      "cell_type": "code",
      "source": [
        "spark.sql(\"SELECT Country, sum(Quantity * UnitPrice) as DoanhThu FROM t_eCommerce group by Country order by DoanhThu desc\").show()"
      ],
      "metadata": {
        "colab": {
          "base_uri": "https://localhost:8080/"
        },
        "id": "_eO_z9d0RR4F",
        "outputId": "75dce358-1cad-4220-98db-4a3f61852d1e"
      },
      "execution_count": 29,
      "outputs": [
        {
          "output_type": "stream",
          "name": "stdout",
          "text": [
            "+---------------+------------------+\n",
            "|        Country|          DoanhThu|\n",
            "+---------------+------------------+\n",
            "| United Kingdom|8187806.3639986925|\n",
            "|    Netherlands| 284661.5399999992|\n",
            "|           EIRE|263276.81999999913|\n",
            "|        Germany|221698.21000000037|\n",
            "|         France|197403.90000000037|\n",
            "|      Australia|137077.26999999987|\n",
            "|    Switzerland| 56385.35000000011|\n",
            "|          Spain| 54774.58000000016|\n",
            "|        Belgium|40910.960000000014|\n",
            "|         Sweden| 36595.90999999998|\n",
            "|          Japan|35340.619999999995|\n",
            "|         Norway| 35163.46000000001|\n",
            "|       Portugal|29367.019999999953|\n",
            "|        Finland|22326.739999999994|\n",
            "|Channel Islands| 20086.28999999999|\n",
            "|        Denmark| 18768.13999999999|\n",
            "|          Italy|16890.509999999995|\n",
            "|         Cyprus|12946.289999999994|\n",
            "|        Austria|10154.319999999996|\n",
            "|      Hong Kong|10117.039999999997|\n",
            "+---------------+------------------+\n",
            "only showing top 20 rows\n",
            "\n"
          ]
        }
      ]
    },
    {
      "cell_type": "code",
      "source": [
        "#Countries = spark.sql(\"SELECT * FROM t_eCommerce limit 5\")\n",
        "Countries = spark.sql(\"SELECT * FROM t_eCommerce\")\n",
        "Countries.show(5, truncate=False)"
      ],
      "metadata": {
        "colab": {
          "base_uri": "https://localhost:8080/"
        },
        "id": "BSDh9VMHHnkx",
        "outputId": "015924a3-5271-4498-eb92-bc26744f7391"
      },
      "execution_count": 30,
      "outputs": [
        {
          "output_type": "stream",
          "name": "stdout",
          "text": [
            "+---------+---------+-----------------------------------+--------+---------------+---------+----------+--------------+------------------+-----------+\n",
            "|InvoiceNo|StockCode|Description                        |Quantity|InvoiceDateTime|UnitPrice|CustomerID|Country       |TotalPrice        |InvoiceDate|\n",
            "+---------+---------+-----------------------------------+--------+---------------+---------+----------+--------------+------------------+-----------+\n",
            "|536365   |85123A   |WHITE HANGING HEART T-LIGHT HOLDER |6       |12/1/2010 8:26 |2.55     |17850     |United Kingdom|15.299999999999999|2010-12-01 |\n",
            "|536365   |71053    |WHITE METAL LANTERN                |6       |12/1/2010 8:26 |3.39     |17850     |United Kingdom|20.34             |2010-12-01 |\n",
            "|536365   |84406B   |CREAM CUPID HEARTS COAT HANGER     |8       |12/1/2010 8:26 |2.75     |17850     |United Kingdom|22.0              |2010-12-01 |\n",
            "|536365   |84029G   |KNITTED UNION FLAG HOT WATER BOTTLE|6       |12/1/2010 8:26 |3.39     |17850     |United Kingdom|20.34             |2010-12-01 |\n",
            "|536365   |84029E   |RED WOOLLY HOTTIE WHITE HEART.     |6       |12/1/2010 8:26 |3.39     |17850     |United Kingdom|20.34             |2010-12-01 |\n",
            "+---------+---------+-----------------------------------+--------+---------------+---------+----------+--------------+------------------+-----------+\n",
            "only showing top 5 rows\n",
            "\n"
          ]
        }
      ]
    },
    {
      "cell_type": "code",
      "source": [
        "spark.sql(\"select distinct Country from t_eCommerce\").show()"
      ],
      "metadata": {
        "colab": {
          "base_uri": "https://localhost:8080/"
        },
        "id": "dWoMqv9WPfUc",
        "outputId": "7f7bb4df-3e27-4271-b845-a7f1d90a5368"
      },
      "execution_count": 31,
      "outputs": [
        {
          "output_type": "stream",
          "name": "stdout",
          "text": [
            "+------------------+\n",
            "|           Country|\n",
            "+------------------+\n",
            "|            Sweden|\n",
            "|         Singapore|\n",
            "|           Germany|\n",
            "|            France|\n",
            "|            Greece|\n",
            "|European Community|\n",
            "|           Belgium|\n",
            "|           Finland|\n",
            "|             Malta|\n",
            "|       Unspecified|\n",
            "|             Italy|\n",
            "|              EIRE|\n",
            "|         Lithuania|\n",
            "|            Norway|\n",
            "|             Spain|\n",
            "|           Denmark|\n",
            "|         Hong Kong|\n",
            "|           Iceland|\n",
            "|            Israel|\n",
            "|   Channel Islands|\n",
            "+------------------+\n",
            "only showing top 20 rows\n",
            "\n"
          ]
        }
      ]
    },
    {
      "cell_type": "code",
      "source": [
        "spark.sql(\"select count(distinct Country) CountryCount from t_eCommerce\").show()"
      ],
      "metadata": {
        "colab": {
          "base_uri": "https://localhost:8080/"
        },
        "id": "X2QtAEp9PHJF",
        "outputId": "1867a1c9-43ca-4874-f86a-8087a412f832"
      },
      "execution_count": 32,
      "outputs": [
        {
          "output_type": "stream",
          "name": "stdout",
          "text": [
            "+------------+\n",
            "|CountryCount|\n",
            "+------------+\n",
            "|          38|\n",
            "+------------+\n",
            "\n"
          ]
        }
      ]
    },
    {
      "cell_type": "code",
      "source": [
        "#Countries = sqlContext.sql(\"SELECT sum(Quantity), sum(UnitPrice), Country from eCommerce group by Country order by sum(Quantity) desc\")\n",
        "spark.sql(\"SELECT sum(Quantity), sum(UnitPrice), Country from t_eCommerce group by Country order by sum(Quantity) desc\").show()"
      ],
      "metadata": {
        "colab": {
          "base_uri": "https://localhost:8080/"
        },
        "id": "cuYOJPFtH5G-",
        "outputId": "b5bf6ac7-1188-419e-9dde-ce345dead7f4"
      },
      "execution_count": 33,
      "outputs": [
        {
          "output_type": "stream",
          "name": "stdout",
          "text": [
            "+-------------+------------------+---------------+\n",
            "|sum(Quantity)|    sum(UnitPrice)|        Country|\n",
            "+-------------+------------------+---------------+\n",
            "|      4263829| 2245715.473997657| United Kingdom|\n",
            "|       200128| 6492.549999999972|    Netherlands|\n",
            "|       142637|48447.190000000934|           EIRE|\n",
            "|       117448| 37666.00000000061|        Germany|\n",
            "|       110480| 43031.99000000053|         France|\n",
            "|        83653| 4054.749999999998|      Australia|\n",
            "|        35637|1806.8300000000006|         Sweden|\n",
            "|        30325| 6813.689999999986|    Switzerland|\n",
            "|        26824| 12633.44999999992|          Spain|\n",
            "|        25218| 814.8600000000002|          Japan|\n",
            "|        23152| 7540.129999999979|        Belgium|\n",
            "|        19247| 6529.059999999987|         Norway|\n",
            "|        16180|          13037.54|       Portugal|\n",
            "|        10666| 3786.850000000005|        Finland|\n",
            "|         9479|3738.5500000000015|Channel Islands|\n",
            "|         8188|1266.9499999999991|        Denmark|\n",
            "|         7999| 3879.390000000005|          Italy|\n",
            "|         6317|3920.0699999999997|         Cyprus|\n",
            "|         5234|25108.890000000007|      Singapore|\n",
            "|         4827|1701.5200000000018|        Austria|\n",
            "+-------------+------------------+---------------+\n",
            "only showing top 20 rows\n",
            "\n"
          ]
        }
      ]
    },
    {
      "cell_type": "code",
      "source": [
        "#Countries = sqlContext.sql(\"SELECT sum(Quantity), sum(UnitPrice), Country from eCommerce group by Country order by sum(Quantity) desc\")\n",
        "spark.sql(\"SELECT sum(Quantity) Quantity, round(sum(UnitPrice)) xSumUnitPrice, Country from t_eCommerce group by Country order by Quantity desc\").show(40)"
      ],
      "metadata": {
        "colab": {
          "base_uri": "https://localhost:8080/"
        },
        "id": "vxABNx9_Ig39",
        "outputId": "b3eb42c0-1071-4f01-ae3f-7be8fbdfe313"
      },
      "execution_count": 34,
      "outputs": [
        {
          "output_type": "stream",
          "name": "stdout",
          "text": [
            "+--------+-------------+--------------------+\n",
            "|Quantity|xSumUnitPrice|             Country|\n",
            "+--------+-------------+--------------------+\n",
            "| 4263829|    2245715.0|      United Kingdom|\n",
            "|  200128|       6493.0|         Netherlands|\n",
            "|  142637|      48447.0|                EIRE|\n",
            "|  117448|      37666.0|             Germany|\n",
            "|  110480|      43032.0|              France|\n",
            "|   83653|       4055.0|           Australia|\n",
            "|   35637|       1807.0|              Sweden|\n",
            "|   30325|       6814.0|         Switzerland|\n",
            "|   26824|      12633.0|               Spain|\n",
            "|   25218|        815.0|               Japan|\n",
            "|   23152|       7540.0|             Belgium|\n",
            "|   19247|       6529.0|              Norway|\n",
            "|   16180|      13038.0|            Portugal|\n",
            "|   10666|       3787.0|             Finland|\n",
            "|    9479|       3739.0|     Channel Islands|\n",
            "|    8188|       1267.0|             Denmark|\n",
            "|    7999|       3879.0|               Italy|\n",
            "|    6317|       3920.0|              Cyprus|\n",
            "|    5234|      25109.0|           Singapore|\n",
            "|    4827|       1702.0|             Austria|\n",
            "|    4769|      12241.0|           Hong Kong|\n",
            "|    4353|       1079.0|              Israel|\n",
            "|    3653|       1422.0|              Poland|\n",
            "|    3300|       1204.0|         Unspecified|\n",
            "|    2763|        911.0|              Canada|\n",
            "|    2458|        481.0|             Iceland|\n",
            "|    1556|        713.0|              Greece|\n",
            "|    1034|        645.0|                 USA|\n",
            "|     982|        230.0|United Arab Emirates|\n",
            "|     944|        666.0|               Malta|\n",
            "|     652|         99.0|           Lithuania|\n",
            "|     592|         88.0|      Czech Republic|\n",
            "|     497|        294.0|  European Community|\n",
            "|     386|        242.0|             Lebanon|\n",
            "|     356|        143.0|              Brazil|\n",
            "|     352|        248.0|                 RSA|\n",
            "|     260|         87.0|             Bahrain|\n",
            "|      75|         24.0|        Saudi Arabia|\n",
            "+--------+-------------+--------------------+\n",
            "\n"
          ]
        }
      ]
    },
    {
      "cell_type": "code",
      "source": [
        "spark.sql(\"SELECT sum(Quantity) Quantity, round(sum(UnitPrice * Quantity)) Sales, Country from t_eCommerce group by Country order by Quantity desc\").show(40)"
      ],
      "metadata": {
        "colab": {
          "base_uri": "https://localhost:8080/"
        },
        "id": "rB6BKLJhO0Ge",
        "outputId": "9f97117a-89bf-4d85-c504-a966044ff1e9"
      },
      "execution_count": 35,
      "outputs": [
        {
          "output_type": "stream",
          "name": "stdout",
          "text": [
            "+--------+---------+--------------------+\n",
            "|Quantity|    Sales|             Country|\n",
            "+--------+---------+--------------------+\n",
            "| 4263829|8187806.0|      United Kingdom|\n",
            "|  200128| 284662.0|         Netherlands|\n",
            "|  142637| 263277.0|                EIRE|\n",
            "|  117448| 221698.0|             Germany|\n",
            "|  110480| 197404.0|              France|\n",
            "|   83653| 137077.0|           Australia|\n",
            "|   35637|  36596.0|              Sweden|\n",
            "|   30325|  56385.0|         Switzerland|\n",
            "|   26824|  54775.0|               Spain|\n",
            "|   25218|  35341.0|               Japan|\n",
            "|   23152|  40911.0|             Belgium|\n",
            "|   19247|  35163.0|              Norway|\n",
            "|   16180|  29367.0|            Portugal|\n",
            "|   10666|  22327.0|             Finland|\n",
            "|    9479|  20086.0|     Channel Islands|\n",
            "|    8188|  18768.0|             Denmark|\n",
            "|    7999|  16891.0|               Italy|\n",
            "|    6317|  12946.0|              Cyprus|\n",
            "|    5234|   9120.0|           Singapore|\n",
            "|    4827|  10154.0|             Austria|\n",
            "|    4769|  10117.0|           Hong Kong|\n",
            "|    4353|   7908.0|              Israel|\n",
            "|    3653|   7213.0|              Poland|\n",
            "|    3300|   4750.0|         Unspecified|\n",
            "|    2763|   3666.0|              Canada|\n",
            "|    2458|   4310.0|             Iceland|\n",
            "|    1556|   4711.0|              Greece|\n",
            "|    1034|   1731.0|                 USA|\n",
            "|     982|   1902.0|United Arab Emirates|\n",
            "|     944|   2505.0|               Malta|\n",
            "|     652|   1661.0|           Lithuania|\n",
            "|     592|    708.0|      Czech Republic|\n",
            "|     497|   1292.0|  European Community|\n",
            "|     386|   1694.0|             Lebanon|\n",
            "|     356|   1144.0|              Brazil|\n",
            "|     352|   1002.0|                 RSA|\n",
            "|     260|    548.0|             Bahrain|\n",
            "|      75|    131.0|        Saudi Arabia|\n",
            "+--------+---------+--------------------+\n",
            "\n"
          ]
        }
      ]
    },
    {
      "cell_type": "code",
      "source": [
        "# Where description contains comma\n",
        "spark.sql(\"SELECT InvoiceNo, Description  from t_eCommerce where Description like '%,%'\").show(truncate = False)"
      ],
      "metadata": {
        "colab": {
          "base_uri": "https://localhost:8080/"
        },
        "id": "5CbB1OlYN6uc",
        "outputId": "ecdf1c69-d177-40e5-bf0d-342b9637648b"
      },
      "execution_count": 36,
      "outputs": [
        {
          "output_type": "stream",
          "name": "stdout",
          "text": [
            "+---------+----------------------------------+\n",
            "|InvoiceNo|Description                       |\n",
            "+---------+----------------------------------+\n",
            "|536381   |AIRLINE LOUNGE,METAL SIGN         |\n",
            "|536394   |FANCY FONT BIRTHDAY CARD,         |\n",
            "|536520   |TRAY, BREAKFAST IN BED            |\n",
            "|536520   |SWISS ROLL TOWEL, CHOCOLATE  SPOTS|\n",
            "|536524   |SWISS ROLL TOWEL, CHOCOLATE  SPOTS|\n",
            "|536531   |BIRTHDAY CARD, RETRO SPOT         |\n",
            "|536531   |FANCY FONT BIRTHDAY CARD,         |\n",
            "|536532   |FANCY FONT BIRTHDAY CARD,         |\n",
            "|536544   |TRAY, BREAKFAST IN BED            |\n",
            "|536544   |ACRYLIC JEWEL ICICLE, PINK        |\n",
            "|536544   |TUMBLER, BAROQUE                  |\n",
            "|536544   |TUMBLER, NEW ENGLAND              |\n",
            "|536544   |METAL SIGN,CUPCAKE SINGLE HOOK    |\n",
            "|536544   |METAL SIGN,CUPCAKE SINGLE HOOK    |\n",
            "|536544   |SET 3 RETROSPOT TEA,COFFEE,SUGAR  |\n",
            "|536544   |ELEPHANT, BIRTHDAY CARD,          |\n",
            "|C536548  |HOOK, 1 HANGER ,MAGIC GARDEN      |\n",
            "|536559   |FEATHER PEN,COAL BLACK            |\n",
            "|536559   |FEATHER PEN,LIGHT PINK            |\n",
            "|536559   |FEATHER PEN,LIGHT PINK            |\n",
            "+---------+----------------------------------+\n",
            "only showing top 20 rows\n",
            "\n"
          ]
        }
      ]
    },
    {
      "cell_type": "code",
      "source": [
        "spark.sql(\"select count(*) from t_eCommerce where Description like '%,%'\").show()"
      ],
      "metadata": {
        "colab": {
          "base_uri": "https://localhost:8080/"
        },
        "id": "j-PwUYPlOYfg",
        "outputId": "bdf35d41-611c-47c5-ef2c-f3065726de24"
      },
      "execution_count": 37,
      "outputs": [
        {
          "output_type": "stream",
          "name": "stdout",
          "text": [
            "+--------+\n",
            "|count(1)|\n",
            "+--------+\n",
            "|    4796|\n",
            "+--------+\n",
            "\n"
          ]
        }
      ]
    },
    {
      "cell_type": "markdown",
      "source": [
        "## Hiển thị 10 khách hàng mua với doanh số cao nhất, sắp xếp giảm dần theo doanh số"
      ],
      "metadata": {
        "id": "unqr7u7Zo4_l"
      }
    },
    {
      "cell_type": "code",
      "source": [
        "spark.sql(\"\"\"\n",
        "    SELECT CustomerID, SUM(TotalPrice) AS TotalRevenue\n",
        "    FROM t_eCommerce\n",
        "    GROUP BY CustomerID\n",
        "    ORDER BY TotalRevenue DESC\n",
        "    LIMIT 10\n",
        "\"\"\").show()\n"
      ],
      "metadata": {
        "colab": {
          "base_uri": "https://localhost:8080/"
        },
        "id": "YsGiGeUFpGOp",
        "outputId": "f0a1e799-dee6-43d5-ae9c-78afe89ff751"
      },
      "execution_count": 38,
      "outputs": [
        {
          "output_type": "stream",
          "name": "stdout",
          "text": [
            "+----------+------------------+\n",
            "|CustomerID|      TotalRevenue|\n",
            "+----------+------------------+\n",
            "|      NULL|  1447682.12000015|\n",
            "|     14646|279489.01999999944|\n",
            "|     18102|256438.48999999993|\n",
            "|     17450|187482.16999999998|\n",
            "|     14911|132572.61999999994|\n",
            "|     12415| 123725.4499999999|\n",
            "|     14156|113384.13999999998|\n",
            "|     17511| 88125.37999999992|\n",
            "|     16684| 65892.07999999999|\n",
            "|     13694|62653.100000000006|\n",
            "+----------+------------------+\n",
            "\n"
          ]
        }
      ]
    },
    {
      "cell_type": "markdown",
      "source": [
        "## Hiển thị doanh thu theo ngày và sắp xếp ngày tăng dần"
      ],
      "metadata": {
        "id": "mVTuSDuxpC6Z"
      }
    },
    {
      "cell_type": "code",
      "source": [
        "spark.sql(\"\"\"\n",
        "    SELECT InvoiceDate, SUM(TotalPrice) AS DailyRevenue\n",
        "    FROM t_eCommerce\n",
        "    GROUP BY InvoiceDate\n",
        "    ORDER BY InvoiceDate ASC\n",
        "\"\"\").show()"
      ],
      "metadata": {
        "colab": {
          "base_uri": "https://localhost:8080/"
        },
        "id": "yWgzjaKJpdJJ",
        "outputId": "84d10433-1f1d-4ff1-963b-e4f766f935a4"
      },
      "execution_count": 39,
      "outputs": [
        {
          "output_type": "stream",
          "name": "stdout",
          "text": [
            "+-----------+------------------+\n",
            "|InvoiceDate|      DailyRevenue|\n",
            "+-----------+------------------+\n",
            "| 2010-12-01| 58635.56000000026|\n",
            "| 2010-12-02| 46207.27999999991|\n",
            "| 2010-12-03|  45620.4599999999|\n",
            "| 2010-12-05| 31383.95000000016|\n",
            "| 2010-12-06|53860.180000000015|\n",
            "| 2010-12-07| 45059.05000000015|\n",
            "| 2010-12-08|44189.839999999866|\n",
            "| 2010-12-09| 52532.13000000003|\n",
            "| 2010-12-10| 57404.91000000017|\n",
            "| 2010-12-12| 17240.92000000005|\n",
            "| 2010-12-13| 35379.34000000009|\n",
            "| 2010-12-14|42843.290000000205|\n",
            "| 2010-12-15| 29443.69000000013|\n",
            "| 2010-12-16| 48334.34999999993|\n",
            "| 2010-12-17| 43534.19000000001|\n",
            "| 2010-12-19| 7517.309999999992|\n",
            "| 2010-12-20|24741.750000000015|\n",
            "| 2010-12-21|47097.939999999915|\n",
            "| 2010-12-22| 6134.569999999999|\n",
            "| 2010-12-23|11796.310000000025|\n",
            "+-----------+------------------+\n",
            "only showing top 20 rows\n",
            "\n"
          ]
        }
      ]
    },
    {
      "cell_type": "markdown",
      "source": [
        "# Data Cleaning"
      ],
      "metadata": {
        "id": "Ais5NhVdJACa"
      }
    },
    {
      "cell_type": "markdown",
      "metadata": {
        "id": "PoH6dh0PVquo"
      },
      "source": [
        "## Remove comma from data of CSV file <br>\n",
        "The data contains commas which may cause during the load process"
      ]
    },
    {
      "cell_type": "code",
      "metadata": {
        "id": "G_xAU1jwTQn7"
      },
      "source": [
        "#we remove the CRLF character from the end of the row if it exists\n",
        "!sed 's/\\r//' /content/eCommerce_Full_2021.csv > datafile.csv\n",
        "#!sed 's/\\r//g' /content/eCommerce_02PC_2021.csv > datafile.csv\n",
        "# remove the first line containing headers from the file\n",
        "!sed -i -e \"1d\" datafile.csv"
      ],
      "execution_count": 40,
      "outputs": []
    },
    {
      "cell_type": "markdown",
      "metadata": {
        "id": "hppAU6JFgXdJ"
      },
      "source": [
        "Tropical beach, coffee has commas"
      ]
    },
    {
      "cell_type": "code",
      "metadata": {
        "id": "v44TUklTTgTV",
        "colab": {
          "base_uri": "https://localhost:8080/"
        },
        "outputId": "cf925409-00ae-4332-9ce1-e9328bbe75d9"
      },
      "source": [
        "#!grep 'TROPICAL BEACH' datafile.csv\n",
        "#!grep 'COFFEE,' datafile.csv\n",
        "!head datafile.csv"
      ],
      "execution_count": 44,
      "outputs": [
        {
          "output_type": "stream",
          "name": "stdout",
          "text": [
            "536365,85123A,WHITE HANGING HEART T-LIGHT HOLDER,6,12/1/2010 8:26,2.55,17850,United Kingdom\n",
            "536365,71053,WHITE METAL LANTERN,6,12/1/2010 8:26,3.39,17850,United Kingdom\n",
            "536365,84406B,CREAM CUPID HEARTS COAT HANGER,8,12/1/2010 8:26,2.75,17850,United Kingdom\n",
            "536365,84029G,KNITTED UNION FLAG HOT WATER BOTTLE,6,12/1/2010 8:26,3.39,17850,United Kingdom\n",
            "536365,84029E,RED WOOLLY HOTTIE WHITE HEART.,6,12/1/2010 8:26,3.39,17850,United Kingdom\n",
            "536365,22752,SET 7 BABUSHKA NESTING BOXES,2,12/1/2010 8:26,7.65,17850,United Kingdom\n",
            "536365,21730,GLASS STAR FROSTED T-LIGHT HOLDER,6,12/1/2010 8:26,4.25,17850,United Kingdom\n",
            "536366,22633,HAND WARMER UNION JACK,6,12/1/2010 8:28,1.85,17850,United Kingdom\n",
            "536366,22632,HAND WARMER RED POLKA DOT,6,12/1/2010 8:28,1.85,17850,United Kingdom\n",
            "536367,84879,ASSORTED COLOUR BIRD ORNAMENT,32,12/1/2010 8:34,1.69,13047,United Kingdom\n"
          ]
        }
      ]
    },
    {
      "cell_type": "markdown",
      "metadata": {
        "id": "9SFUz9L-gfaC"
      },
      "source": [
        "commas getting removed here"
      ]
    },
    {
      "cell_type": "code",
      "metadata": {
        "id": "XmNd6m29Tykj",
        "colab": {
          "base_uri": "https://localhost:8080/"
        },
        "outputId": "b43eec35-bd1a-4122-e45e-0b482e90b2ed"
      },
      "source": [
        "import pandas as pd\n",
        "#p_df = pd.read_csv('datafile.csv',header=None)   # throws errors because of non utf-encoding\n",
        "                                                  # https://stackoverflow.com/questions/18171739/unicodedecodeerror-when-reading-csv-file-in-pandas-with-python\n",
        "p_df = pd.read_csv('datafile.csv',encoding = \"ISO-8859-1\",header=None)\n",
        "#p_df = pd.read_csv('datafile.csv',encoding = \"latin\",header=None)\n",
        "#p_df = pd.read_csv('datafile.csv',encoding = \"latin\")\n",
        "p_df2 = p_df.replace(',', ' ', regex=True)\n",
        "p_df2.to_csv('datafile2.csv',index=False,sep=',',header=False)\n",
        "p_df2.shape"
      ],
      "execution_count": 45,
      "outputs": [
        {
          "output_type": "execute_result",
          "data": {
            "text/plain": [
              "(541909, 8)"
            ]
          },
          "metadata": {},
          "execution_count": 45
        }
      ]
    },
    {
      "cell_type": "code",
      "source": [
        "#Desc2 = p_df2['Description'].str.encode('ascii','ignore').str.decode('ascii')\n",
        "#p_df2['Description2'] = Desc2\n",
        "#p_df2.head(3)\n",
        "#p_df2.drop(\"Description\", axis=1, inplace=True)\n",
        "#p_df2.head(3)"
      ],
      "metadata": {
        "id": "dUjgoIkAQCHR"
      },
      "execution_count": null,
      "outputs": []
    },
    {
      "cell_type": "code",
      "source": [
        "#!head datafile2.csv\n",
        "#!grep 'TROPICAL BEACH' datafile2.csv\n",
        "#!grep 'COFFEE' datafile2.csv"
      ],
      "metadata": {
        "id": "jNKThHPvPb5k"
      },
      "execution_count": null,
      "outputs": []
    },
    {
      "cell_type": "markdown",
      "metadata": {
        "id": "_llYjVnHYQFO"
      },
      "source": [
        "##SQL Context"
      ]
    },
    {
      "cell_type": "code",
      "metadata": {
        "id": "xWLZFQRs3EQ6"
      },
      "source": [
        "#from pyspark.sql import SQLContext\n",
        "from pyspark.sql import Row\n",
        "\n",
        "#sqlContext = SQLContext(sc)"
      ],
      "execution_count": 46,
      "outputs": []
    },
    {
      "cell_type": "code",
      "metadata": {
        "id": "GsTXCKQ74VyI"
      },
      "source": [
        "data_file = \"datafile2.csv\"\n",
        "raw_data = sc.textFile(data_file)\n",
        "csv_data = raw_data.map(lambda l: l.split(\",\"))"
      ],
      "execution_count": 47,
      "outputs": []
    },
    {
      "cell_type": "code",
      "metadata": {
        "colab": {
          "base_uri": "https://localhost:8080/"
        },
        "id": "YRCOwHRh5_aM",
        "outputId": "b403751b-83a7-4b50-c873-5b5418b1b73f"
      },
      "source": [
        "csv_data.take(5)"
      ],
      "execution_count": 48,
      "outputs": [
        {
          "output_type": "execute_result",
          "data": {
            "text/plain": [
              "[['536365',\n",
              "  '85123A',\n",
              "  'WHITE HANGING HEART T-LIGHT HOLDER',\n",
              "  '6',\n",
              "  '12/1/2010 8:26',\n",
              "  '2.55',\n",
              "  '17850.0',\n",
              "  'United Kingdom'],\n",
              " ['536365',\n",
              "  '71053',\n",
              "  'WHITE METAL LANTERN',\n",
              "  '6',\n",
              "  '12/1/2010 8:26',\n",
              "  '3.39',\n",
              "  '17850.0',\n",
              "  'United Kingdom'],\n",
              " ['536365',\n",
              "  '84406B',\n",
              "  'CREAM CUPID HEARTS COAT HANGER',\n",
              "  '8',\n",
              "  '12/1/2010 8:26',\n",
              "  '2.75',\n",
              "  '17850.0',\n",
              "  'United Kingdom'],\n",
              " ['536365',\n",
              "  '84029G',\n",
              "  'KNITTED UNION FLAG HOT WATER BOTTLE',\n",
              "  '6',\n",
              "  '12/1/2010 8:26',\n",
              "  '3.39',\n",
              "  '17850.0',\n",
              "  'United Kingdom'],\n",
              " ['536365',\n",
              "  '84029E',\n",
              "  'RED WOOLLY HOTTIE WHITE HEART.',\n",
              "  '6',\n",
              "  '12/1/2010 8:26',\n",
              "  '3.39',\n",
              "  '17850.0',\n",
              "  'United Kingdom']]"
            ]
          },
          "metadata": {},
          "execution_count": 48
        }
      ]
    },
    {
      "cell_type": "code",
      "metadata": {
        "id": "SsggPKar4kWa"
      },
      "source": [
        "row_data = csv_data.map(lambda p: Row(\n",
        "    InvoiceNo=p[0],\n",
        "    StockCode=p[1],\n",
        "    Description=p[2],\n",
        "    Quantity=int(p[3]),\n",
        "    InvoiceDate=p[4],\n",
        "    UnitPrice=float(p[5]),\n",
        "    CustomerID=p[6],\n",
        "    Country=p[7]\n",
        "    )\n",
        ")"
      ],
      "execution_count": 49,
      "outputs": []
    },
    {
      "cell_type": "code",
      "metadata": {
        "colab": {
          "base_uri": "https://localhost:8080/"
        },
        "id": "A_AK-Uu-5ulT",
        "outputId": "3e4dfc02-fbbe-4df8-8a05-1cc7cd41af74"
      },
      "source": [
        "row_data.take(2)"
      ],
      "execution_count": 50,
      "outputs": [
        {
          "output_type": "execute_result",
          "data": {
            "text/plain": [
              "[Row(InvoiceNo='536365', StockCode='85123A', Description='WHITE HANGING HEART T-LIGHT HOLDER', Quantity=6, InvoiceDate='12/1/2010 8:26', UnitPrice=2.55, CustomerID='17850.0', Country='United Kingdom'),\n",
              " Row(InvoiceNo='536365', StockCode='71053', Description='WHITE METAL LANTERN', Quantity=6, InvoiceDate='12/1/2010 8:26', UnitPrice=3.39, CustomerID='17850.0', Country='United Kingdom')]"
            ]
          },
          "metadata": {},
          "execution_count": 50
        }
      ]
    },
    {
      "cell_type": "code",
      "metadata": {
        "id": "jXMc_yIV89IE"
      },
      "source": [
        "#eCommerce2_df = sqlContext.createDataFrame(row_data)\n",
        "#eCommerce2_df.registerTempTable(\"eCommerce\")\n",
        "# spark 2 onwards ...\n",
        "eCommerce2_df = spark.createDataFrame(row_data)\n",
        "eCommerce2_df.createOrReplaceTempView(\"eCommerce\")"
      ],
      "execution_count": 51,
      "outputs": []
    },
    {
      "cell_type": "code",
      "metadata": {
        "colab": {
          "base_uri": "https://localhost:8080/"
        },
        "id": "1Q39dzGqGdTb",
        "outputId": "1b54262d-86a1-4f5f-b585-3a4773cc96a6"
      },
      "source": [
        "#Countries = sqlContext.sql(\"SELECT * FROM eCommerce limit 20\")\n",
        "Countries = spark.sql(\"SELECT * FROM eCommerce limit 5\")\n",
        "Countries.show()"
      ],
      "execution_count": 52,
      "outputs": [
        {
          "output_type": "stream",
          "name": "stdout",
          "text": [
            "+---------+---------+--------------------+--------+--------------+---------+----------+--------------+\n",
            "|InvoiceNo|StockCode|         Description|Quantity|   InvoiceDate|UnitPrice|CustomerID|       Country|\n",
            "+---------+---------+--------------------+--------+--------------+---------+----------+--------------+\n",
            "|   536365|   85123A|WHITE HANGING HEA...|       6|12/1/2010 8:26|     2.55|   17850.0|United Kingdom|\n",
            "|   536365|    71053| WHITE METAL LANTERN|       6|12/1/2010 8:26|     3.39|   17850.0|United Kingdom|\n",
            "|   536365|   84406B|CREAM CUPID HEART...|       8|12/1/2010 8:26|     2.75|   17850.0|United Kingdom|\n",
            "|   536365|   84029G|KNITTED UNION FLA...|       6|12/1/2010 8:26|     3.39|   17850.0|United Kingdom|\n",
            "|   536365|   84029E|RED WOOLLY HOTTIE...|       6|12/1/2010 8:26|     3.39|   17850.0|United Kingdom|\n",
            "+---------+---------+--------------------+--------+--------------+---------+----------+--------------+\n",
            "\n"
          ]
        }
      ]
    },
    {
      "cell_type": "code",
      "metadata": {
        "colab": {
          "base_uri": "https://localhost:8080/"
        },
        "id": "BYcC-W_AHGPq",
        "outputId": "1ccfe63e-40a6-4fb7-9ddc-2a24114795ed"
      },
      "source": [
        "#Countries = sqlContext.sql(\"SELECT sum(Quantity), sum(UnitPrice), Country from eCommerce group by Country order by sum(Quantity) desc\")\n",
        "Countries = spark.sql(\"SELECT sum(Quantity), sum(UnitPrice), Country from eCommerce group by Country order by sum(Quantity) desc\")\n",
        "Countries.show()"
      ],
      "execution_count": 53,
      "outputs": [
        {
          "output_type": "stream",
          "name": "stdout",
          "text": [
            "+-------------+------------------+---------------+\n",
            "|sum(Quantity)|    sum(UnitPrice)|        Country|\n",
            "+-------------+------------------+---------------+\n",
            "|      4263829|2245715.4739978826| United Kingdom|\n",
            "|       200128| 6492.549999999974|    Netherlands|\n",
            "|       142637| 48447.19000000096|           EIRE|\n",
            "|       117448|  37666.0000000006|        Germany|\n",
            "|       110480| 43031.99000000051|         France|\n",
            "|        83653| 4054.749999999998|      Australia|\n",
            "|        35637|           1806.83|         Sweden|\n",
            "|        30325| 6813.689999999986|    Switzerland|\n",
            "|        26824|12633.449999999923|          Spain|\n",
            "|        25218| 814.8600000000001|          Japan|\n",
            "|        23152| 7540.129999999981|        Belgium|\n",
            "|        19247| 6529.059999999985|         Norway|\n",
            "|        16180|          13037.54|       Portugal|\n",
            "|        10666| 3786.850000000004|        Finland|\n",
            "|         9479| 3738.550000000003|Channel Islands|\n",
            "|         8188|1266.9499999999998|        Denmark|\n",
            "|         7999| 3879.390000000002|          Italy|\n",
            "|         6317|3920.0699999999997|         Cyprus|\n",
            "|         5234|25108.890000000007|      Singapore|\n",
            "|         4827|1701.5200000000018|        Austria|\n",
            "+-------------+------------------+---------------+\n",
            "only showing top 20 rows\n",
            "\n"
          ]
        }
      ]
    },
    {
      "cell_type": "markdown",
      "source": [
        "### Why is there a difference from t_eCommerce Data?"
      ],
      "metadata": {
        "id": "vgucM_PkR3zm"
      }
    },
    {
      "cell_type": "code",
      "source": [
        "#Countries = sqlContext.sql(\"SELECT sum(Quantity), sum(UnitPrice), Country from eCommerce group by Country order by sum(Quantity) desc\")\n",
        "spark.sql(\"SELECT sum(Quantity), sum(UnitPrice), Country from t_eCommerce group by Country order by sum(Quantity) desc\").show()"
      ],
      "metadata": {
        "colab": {
          "base_uri": "https://localhost:8080/"
        },
        "id": "364ZnWDQRbVu",
        "outputId": "ae33fe1b-d856-4d15-86fd-4123b71bd0a2"
      },
      "execution_count": 54,
      "outputs": [
        {
          "output_type": "stream",
          "name": "stdout",
          "text": [
            "+-------------+------------------+---------------+\n",
            "|sum(Quantity)|    sum(UnitPrice)|        Country|\n",
            "+-------------+------------------+---------------+\n",
            "|      4263823|2245712.9239976574| United Kingdom|\n",
            "|       200128| 6492.549999999972|    Netherlands|\n",
            "|       142637|48447.190000000934|           EIRE|\n",
            "|       117448| 37666.00000000061|        Germany|\n",
            "|       110480| 43031.99000000053|         France|\n",
            "|        83653| 4054.749999999998|      Australia|\n",
            "|        35637|1806.8300000000006|         Sweden|\n",
            "|        30325| 6813.689999999986|    Switzerland|\n",
            "|        26824| 12633.44999999992|          Spain|\n",
            "|        25218| 814.8600000000002|          Japan|\n",
            "|        23152| 7540.129999999979|        Belgium|\n",
            "|        19247| 6529.059999999987|         Norway|\n",
            "|        16180|          13037.54|       Portugal|\n",
            "|        10666| 3786.850000000005|        Finland|\n",
            "|         9479|3738.5500000000015|Channel Islands|\n",
            "|         8188|1266.9499999999991|        Denmark|\n",
            "|         7999| 3879.390000000005|          Italy|\n",
            "|         6317|3920.0699999999997|         Cyprus|\n",
            "|         5234|25108.890000000007|      Singapore|\n",
            "|         4827|1701.5200000000018|        Austria|\n",
            "+-------------+------------------+---------------+\n",
            "only showing top 20 rows\n",
            "\n"
          ]
        }
      ]
    },
    {
      "cell_type": "markdown",
      "source": [
        "| Nguyên nhân chính             | Giải thích |\n",
        "|------------------------------|---------------------|\n",
        "| **Schema khác nhau**         | Khi sử dụng DataFrame với `inferSchema=True`, Spark tự động suy đoán kiểu dữ liệu phù hợp (integer, double, string, etc.). Trong khi đó, RDD chỉ xử lý dưới dạng chuỗi (`string`) nếu không ép kiểu thủ công. |\n",
        "| **Không xử lý header**       | DataFrame có thể đọc và bỏ qua dòng tiêu đề (`header=True`), còn RDD sẽ tính cả dòng header như một bản ghi dữ liệu nếu không xử lý riêng. |\n",
        "| **Tách cột không chính xác** | RDD thường dùng `split(\",\")`. Nếu dữ liệu chứa dấu phẩy trong chuỗi (ví dụ `\"Nice, white cup\"`), thì việc tách sẽ sai cột. Trong khi đó, DataFrame sử dụng parser CSV chuẩn để xử lý các chuỗi phức tạp đúng cách. |\n",
        "| **Không có metadata schema** | DataFrame lưu schema kèm theo DataFrame, giúp xử lý dễ dàng hơn (tên cột, kiểu dữ liệu). RDD không có thông tin schema trừ khi tự tạo bằng `Row` và `StructType`. |\n",
        "| **Khả năng tối ưu hóa**      | Spark SQL (dùng với DataFrame) có thể tối ưu truy vấn qua Catalyst Optimizer, còn xử lý RDD là thủ công và ít tối ưu hơn. |\n"
      ],
      "metadata": {
        "id": "sJaKCwMUqiQn"
      }
    },
    {
      "cell_type": "markdown",
      "metadata": {
        "id": "8_kpHzaLWQaM"
      },
      "source": [
        "## HIVE context\n",
        "this part adapted from [this notebook](https://colab.research.google.com/github/jmbanda/BigDataProgramming_2019/blob/master/Chapter_5_Loading_and_Saving_Data_in_Spark.ipynb#scrollTo=lOcCViaN4cwC)"
      ]
    },
    {
      "cell_type": "code",
      "metadata": {
        "id": "7lvUDuvxXIS_",
        "colab": {
          "base_uri": "https://localhost:8080/"
        },
        "outputId": "f2832720-cf4a-4a3c-9690-61c60b89a615"
      },
      "source": [
        "from pyspark.sql import Row\n",
        "from pyspark.sql import HiveContext\n",
        "sqlContext = HiveContext(sc)\n"
      ],
      "execution_count": 55,
      "outputs": [
        {
          "output_type": "stream",
          "name": "stderr",
          "text": [
            "/usr/local/lib/python3.11/dist-packages/pyspark/sql/context.py:733: FutureWarning: HiveContext is deprecated in Spark 2.0.0. Please use SparkSession.builder.enableHiveSupport().getOrCreate() instead.\n",
            "  warnings.warn(\n",
            "/usr/local/lib/python3.11/dist-packages/pyspark/sql/context.py:113: FutureWarning: Deprecated in 3.0.0. Use SparkSession.builder.getOrCreate() instead.\n",
            "  warnings.warn(\n"
          ]
        }
      ]
    },
    {
      "cell_type": "markdown",
      "source": [
        "### Import dữ liệu vào Hive"
      ],
      "metadata": {
        "id": "7eFhy7QprW7V"
      }
    },
    {
      "cell_type": "code",
      "metadata": {
        "id": "lREqO3IbZZ_v"
      },
      "source": [
        "data_file = \"datafile2.csv\"\n",
        "raw_data = sc.textFile(data_file)\n",
        "csv_data = raw_data.map(lambda l: l.split(\",\"))"
      ],
      "execution_count": 56,
      "outputs": []
    },
    {
      "cell_type": "code",
      "metadata": {
        "id": "WTGNC9WYZjUd"
      },
      "source": [
        "row_data = csv_data.map(lambda p: Row(\n",
        "    InvoiceNo=p[0],\n",
        "    StockCode=p[1],\n",
        "    Description=p[2],\n",
        "    Quantity=int(p[3]),\n",
        "    InvoiceDate=p[4],\n",
        "    UnitPrice=float(p[5]),\n",
        "    CustomerID=p[6],\n",
        "    Country=p[7]\n",
        "    )\n",
        ")"
      ],
      "execution_count": 57,
      "outputs": []
    },
    {
      "cell_type": "code",
      "metadata": {
        "colab": {
          "base_uri": "https://localhost:8080/"
        },
        "id": "4fHtrrNCaKEw",
        "outputId": "15fb1fd1-261e-4513-b935-80dd56754c75"
      },
      "source": [
        "ec_schema = spark.createDataFrame(row_data)\n",
        "# Register it as a temp table\n",
        "sqlContext.registerDataFrameAsTable(ec_schema, \"ec_HiveTable\")\n",
        "sqlContext.sql(\"show tables\").show()"
      ],
      "execution_count": 58,
      "outputs": [
        {
          "output_type": "stream",
          "name": "stdout",
          "text": [
            "+---------+------------+-----------+\n",
            "|namespace|   tableName|isTemporary|\n",
            "+---------+------------+-----------+\n",
            "|         |ec_hivetable|       true|\n",
            "|         |   ecommerce|       true|\n",
            "|         | t_ecommerce|       true|\n",
            "+---------+------------+-----------+\n",
            "\n"
          ]
        }
      ]
    },
    {
      "cell_type": "markdown",
      "source": [
        "### Thực hiện Query trong Hive"
      ],
      "metadata": {
        "id": "sUVcKboGrgt8"
      }
    },
    {
      "cell_type": "code",
      "metadata": {
        "colab": {
          "base_uri": "https://localhost:8080/"
        },
        "id": "s6dlcHIlarnF",
        "outputId": "f350d1c6-c266-4a80-da57-decd840dc9f2"
      },
      "source": [
        "Countries = sqlContext.sql(\"SELECT * FROM ec_HiveTable limit 20\")\n",
        "Countries.show(truncate=False)"
      ],
      "execution_count": 59,
      "outputs": [
        {
          "output_type": "stream",
          "name": "stdout",
          "text": [
            "+---------+---------+-----------------------------------+--------+--------------+---------+----------+--------------+\n",
            "|InvoiceNo|StockCode|Description                        |Quantity|InvoiceDate   |UnitPrice|CustomerID|Country       |\n",
            "+---------+---------+-----------------------------------+--------+--------------+---------+----------+--------------+\n",
            "|536365   |85123A   |WHITE HANGING HEART T-LIGHT HOLDER |6       |12/1/2010 8:26|2.55     |17850.0   |United Kingdom|\n",
            "|536365   |71053    |WHITE METAL LANTERN                |6       |12/1/2010 8:26|3.39     |17850.0   |United Kingdom|\n",
            "|536365   |84406B   |CREAM CUPID HEARTS COAT HANGER     |8       |12/1/2010 8:26|2.75     |17850.0   |United Kingdom|\n",
            "|536365   |84029G   |KNITTED UNION FLAG HOT WATER BOTTLE|6       |12/1/2010 8:26|3.39     |17850.0   |United Kingdom|\n",
            "|536365   |84029E   |RED WOOLLY HOTTIE WHITE HEART.     |6       |12/1/2010 8:26|3.39     |17850.0   |United Kingdom|\n",
            "|536365   |22752    |SET 7 BABUSHKA NESTING BOXES       |2       |12/1/2010 8:26|7.65     |17850.0   |United Kingdom|\n",
            "|536365   |21730    |GLASS STAR FROSTED T-LIGHT HOLDER  |6       |12/1/2010 8:26|4.25     |17850.0   |United Kingdom|\n",
            "|536366   |22633    |HAND WARMER UNION JACK             |6       |12/1/2010 8:28|1.85     |17850.0   |United Kingdom|\n",
            "|536366   |22632    |HAND WARMER RED POLKA DOT          |6       |12/1/2010 8:28|1.85     |17850.0   |United Kingdom|\n",
            "|536367   |84879    |ASSORTED COLOUR BIRD ORNAMENT      |32      |12/1/2010 8:34|1.69     |13047.0   |United Kingdom|\n",
            "|536367   |22745    |POPPY'S PLAYHOUSE BEDROOM          |6       |12/1/2010 8:34|2.1      |13047.0   |United Kingdom|\n",
            "|536367   |22748    |POPPY'S PLAYHOUSE KITCHEN          |6       |12/1/2010 8:34|2.1      |13047.0   |United Kingdom|\n",
            "|536367   |22749    |FELTCRAFT PRINCESS CHARLOTTE DOLL  |8       |12/1/2010 8:34|3.75     |13047.0   |United Kingdom|\n",
            "|536367   |22310    |IVORY KNITTED MUG COSY             |6       |12/1/2010 8:34|1.65     |13047.0   |United Kingdom|\n",
            "|536367   |84969    |BOX OF 6 ASSORTED COLOUR TEASPOONS |6       |12/1/2010 8:34|4.25     |13047.0   |United Kingdom|\n",
            "|536367   |22623    |BOX OF VINTAGE JIGSAW BLOCKS       |3       |12/1/2010 8:34|4.95     |13047.0   |United Kingdom|\n",
            "|536367   |22622    |BOX OF VINTAGE ALPHABET BLOCKS     |2       |12/1/2010 8:34|9.95     |13047.0   |United Kingdom|\n",
            "|536367   |21754    |HOME BUILDING BLOCK WORD           |3       |12/1/2010 8:34|5.95     |13047.0   |United Kingdom|\n",
            "|536367   |21755    |LOVE BUILDING BLOCK WORD           |3       |12/1/2010 8:34|5.95     |13047.0   |United Kingdom|\n",
            "|536367   |21777    |RECIPE BOX WITH METAL HEART        |4       |12/1/2010 8:34|7.95     |13047.0   |United Kingdom|\n",
            "+---------+---------+-----------------------------------+--------+--------------+---------+----------+--------------+\n",
            "\n"
          ]
        }
      ]
    },
    {
      "cell_type": "code",
      "metadata": {
        "colab": {
          "base_uri": "https://localhost:8080/"
        },
        "id": "6tjq0NMXa3HK",
        "outputId": "b971e392-d363-4f96-fafe-b84150a839ea"
      },
      "source": [
        "Countries = sqlContext.sql(\"SELECT sum(Quantity) Quantity, round(sum(UnitPrice * Quantity)) Sales, Country from eCommerce group by Country order by Quantity desc\")\n",
        "Countries.show()"
      ],
      "execution_count": 60,
      "outputs": [
        {
          "output_type": "stream",
          "name": "stdout",
          "text": [
            "+--------+---------+---------------+\n",
            "|Quantity|    Sales|        Country|\n",
            "+--------+---------+---------------+\n",
            "| 4263829|8187806.0| United Kingdom|\n",
            "|  200128| 284662.0|    Netherlands|\n",
            "|  142637| 263277.0|           EIRE|\n",
            "|  117448| 221698.0|        Germany|\n",
            "|  110480| 197404.0|         France|\n",
            "|   83653| 137077.0|      Australia|\n",
            "|   35637|  36596.0|         Sweden|\n",
            "|   30325|  56385.0|    Switzerland|\n",
            "|   26824|  54775.0|          Spain|\n",
            "|   25218|  35341.0|          Japan|\n",
            "|   23152|  40911.0|        Belgium|\n",
            "|   19247|  35163.0|         Norway|\n",
            "|   16180|  29367.0|       Portugal|\n",
            "|   10666|  22327.0|        Finland|\n",
            "|    9479|  20086.0|Channel Islands|\n",
            "|    8188|  18768.0|        Denmark|\n",
            "|    7999|  16891.0|          Italy|\n",
            "|    6317|  12946.0|         Cyprus|\n",
            "|    5234|   9120.0|      Singapore|\n",
            "|    4827|  10154.0|        Austria|\n",
            "+--------+---------+---------------+\n",
            "only showing top 20 rows\n",
            "\n"
          ]
        }
      ]
    },
    {
      "cell_type": "code",
      "source": [
        "from datetime import datetime\n",
        "import pytz\n",
        "print('signed off at  ',datetime.now(pytz.timezone('Asia/Ho_Chi_Minh')))"
      ],
      "metadata": {
        "id": "kKvfi_SMsqb3",
        "outputId": "58094145-964c-4695-efa2-7c8f84073aea",
        "colab": {
          "base_uri": "https://localhost:8080/"
        }
      },
      "execution_count": 61,
      "outputs": [
        {
          "output_type": "stream",
          "name": "stdout",
          "text": [
            "signed off at   2025-04-18 18:35:09.660973+07:00\n"
          ]
        }
      ]
    }
  ]
}